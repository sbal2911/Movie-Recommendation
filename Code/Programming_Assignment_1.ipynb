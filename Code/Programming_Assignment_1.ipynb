{
  "cells": [
    {
      "cell_type": "markdown",
      "metadata": {
        "id": "Hr7SGYEq69wv"
      },
      "source": [
        "# ITCS 6162: Data Mining - Programming Assignment"
      ]
    },
    {
      "cell_type": "markdown",
      "metadata": {
        "id": "L_idzFtE7M_9"
      },
      "source": [
        "**In this assignment, you will explore data analysis, recommendation algorithms, and graph-based techniques using the MovieLens dataset. Your tasks will range from basic data exploration to advanced recommendation models, including:**\n",
        "- Data manipulation with pandas\n",
        "- User-item collaborative filtering\n",
        "- Similarity-based recommendation models\n",
        "- A Pixie-inspired Graph-based recommendation using adjacency lists with weighted random walks (without using NetworkX)\n"
      ]
    },
    {
      "cell_type": "markdown",
      "metadata": {
        "id": "EZxjOF_l79zc"
      },
      "source": [
        "#### **Dataset Files:**\n",
        "- **`u.data`**: User-movie ratings (`user_id  movie_id  rating  timestamp`)\n",
        "- **`u.item`**: Movie metadata (`movie_id | title | release date | IMDB_website`)\n",
        "- **`u.user`**: User demographics (`user_id | age | gender | occupation | zip_code`)"
      ]
    },
    {
      "cell_type": "markdown",
      "metadata": {
        "id": "ytr6isc2F9g6"
      },
      "source": [
        "## **Part 1: Exploring and Cleaning Data**"
      ]
    },
    {
      "cell_type": "markdown",
      "metadata": {
        "id": "rypnsY-jqaqH"
      },
      "source": []
    },
    {
      "cell_type": "markdown",
      "metadata": {
        "id": "87kIrhTC9Ba1"
      },
      "source": [
        "### Inspecting the Dataset Format\n",
        "\n",
        "The dataset is not in a traditional CSV format. To examine its structure, use the following shell command to display the first 10 lines of the file:\n",
        "\n",
        "```sh\n",
        "!head <file_name>\n"
      ]
    },
    {
      "cell_type": "markdown",
      "metadata": {
        "id": "PjOtbBWM9xWv"
      },
      "source": [
        "**In the cells given below. Write the code to read the files.**"
      ]
    },
    {
      "cell_type": "code",
      "execution_count": 152,
      "metadata": {
        "id": "XOoSaKsq68nD",
        "colab": {
          "base_uri": "https://localhost:8080/"
        },
        "outputId": "3ca94d22-3a0d-4a5e-91a5-e043bb60d161"
      },
      "outputs": [
        {
          "output_type": "stream",
          "name": "stdout",
          "text": [
            "196\t242\t3\t881250949\n",
            "186\t302\t3\t891717742\n",
            "22\t377\t1\t878887116\n",
            "244\t51\t2\t880606923\n",
            "166\t346\t1\t886397596\n",
            "298\t474\t4\t884182806\n",
            "115\t265\t2\t881171488\n",
            "253\t465\t5\t891628467\n",
            "305\t451\t3\t886324817\n",
            "6\t86\t3\t883603013\n"
          ]
        }
      ],
      "source": [
        "# u.data\n",
        "!head u.data # displays structural format of the dataset"
      ]
    },
    {
      "cell_type": "code",
      "execution_count": 153,
      "metadata": {
        "id": "dckMko0o9t-D",
        "colab": {
          "base_uri": "https://localhost:8080/"
        },
        "outputId": "19147f70-fba4-4655-cfaa-66a093af1d0f"
      },
      "outputs": [
        {
          "output_type": "stream",
          "name": "stdout",
          "text": [
            "1|Toy Story (1995)|01-Jan-1995||http://us.imdb.com/M/title-exact?Toy%20Story%20(1995)|0|0|0|1|1|1|0|0|0|0|0|0|0|0|0|0|0|0|0\n",
            "2|GoldenEye (1995)|01-Jan-1995||http://us.imdb.com/M/title-exact?GoldenEye%20(1995)|0|1|1|0|0|0|0|0|0|0|0|0|0|0|0|0|1|0|0\n",
            "3|Four Rooms (1995)|01-Jan-1995||http://us.imdb.com/M/title-exact?Four%20Rooms%20(1995)|0|0|0|0|0|0|0|0|0|0|0|0|0|0|0|0|1|0|0\n",
            "4|Get Shorty (1995)|01-Jan-1995||http://us.imdb.com/M/title-exact?Get%20Shorty%20(1995)|0|1|0|0|0|1|0|0|1|0|0|0|0|0|0|0|0|0|0\n",
            "5|Copycat (1995)|01-Jan-1995||http://us.imdb.com/M/title-exact?Copycat%20(1995)|0|0|0|0|0|0|1|0|1|0|0|0|0|0|0|0|1|0|0\n",
            "6|Shanghai Triad (Yao a yao yao dao waipo qiao) (1995)|01-Jan-1995||http://us.imdb.com/Title?Yao+a+yao+yao+dao+waipo+qiao+(1995)|0|0|0|0|0|0|0|0|1|0|0|0|0|0|0|0|0|0|0\n",
            "7|Twelve Monkeys (1995)|01-Jan-1995||http://us.imdb.com/M/title-exact?Twelve%20Monkeys%20(1995)|0|0|0|0|0|0|0|0|1|0|0|0|0|0|0|1|0|0|0\n",
            "8|Babe (1995)|01-Jan-1995||http://us.imdb.com/M/title-exact?Babe%20(1995)|0|0|0|0|1|1|0|0|1|0|0|0|0|0|0|0|0|0|0\n",
            "9|Dead Man Walking (1995)|01-Jan-1995||http://us.imdb.com/M/title-exact?Dead%20Man%20Walking%20(1995)|0|0|0|0|0|0|0|0|1|0|0|0|0|0|0|0|0|0|0\n",
            "10|Richard III (1995)|22-Jan-1996||http://us.imdb.com/M/title-exact?Richard%20III%20(1995)|0|0|0|0|0|0|0|0|1|0|0|0|0|0|0|0|0|1|0\n"
          ]
        }
      ],
      "source": [
        "# u.item\n",
        "\n",
        "!head u.item # displays structural format of the dataset"
      ]
    },
    {
      "cell_type": "code",
      "execution_count": 154,
      "metadata": {
        "id": "R7kBwpsi-WKB",
        "colab": {
          "base_uri": "https://localhost:8080/"
        },
        "outputId": "327d30e8-1cb4-4d03-c519-dfc4b799ff2f"
      },
      "outputs": [
        {
          "output_type": "stream",
          "name": "stdout",
          "text": [
            "1|24|M|technician|85711\n",
            "2|53|F|other|94043\n",
            "3|23|M|writer|32067\n",
            "4|24|M|technician|43537\n",
            "5|33|F|other|15213\n",
            "6|42|M|executive|98101\n",
            "7|57|M|administrator|91344\n",
            "8|36|M|administrator|05201\n",
            "9|29|M|student|01002\n",
            "10|53|M|lawyer|90703\n"
          ]
        }
      ],
      "source": [
        "# u.user\n",
        "!head u.user # displays structural format of the dataset"
      ]
    },
    {
      "cell_type": "markdown",
      "metadata": {
        "id": "YnryIHO7-db3"
      },
      "source": [
        "#### Loading the Dataset with Pandas"
      ]
    },
    {
      "cell_type": "markdown",
      "metadata": {
        "id": "Jwmza7riBj30"
      },
      "source": [
        "Use **pandas** to load the dataset into a DataFrame for analysis. Follow these steps:  \n",
        "\n",
        "1. Import the necessary library: `pandas`.  \n",
        "2. Use `pd.read_csv()` (or an appropriate function) to read the dataset file.  \n",
        "3. Ensure the dataset is loaded with the correct delimiter (e.g., `','`, `'\\t'`,`'|'` , or another separator if needed).  \n",
        "4. Select and display the first few rows using `.head()`."
      ]
    },
    {
      "cell_type": "markdown",
      "metadata": {
        "id": "KPEDYYGOBOSD"
      },
      "source": [
        "Ensure that:  \n",
        "\n",
        "- The `ratings` dataset is read from `\"u.data\"` using tab (`'\\t'`) as a separator and column names (`\"user_id\"`, `\"movie_id\"`, `\"rating\"` and `\"timestamp\"`).  \n",
        "- The `movies` dataset is read from `\"u.item\"` using `'|'` as a separator, use columns (`0`, `1`, `2`), encoding (`\"latin-1\"`) and name the columns (`movie_id`, `title`, and `release_date`).  \n",
        "- The `users` dataset is read from `\"u.user\"` using `'|'` as a separator, use columns (`0`, `1`, `2`, `3`) and name the columns (`user_id`, `age`, `gender`, and `occupation`)."
      ]
    },
    {
      "cell_type": "code",
      "execution_count": 155,
      "metadata": {
        "id": "Go-Y-Ofy-ZTk",
        "colab": {
          "base_uri": "https://localhost:8080/"
        },
        "outputId": "ea965be4-3a5a-4c66-9a0b-4abc6c0fc44c"
      },
      "outputs": [
        {
          "output_type": "stream",
          "name": "stdout",
          "text": [
            "\n",
            "Ratings dataset:\n",
            "   user_id  movie_id  rating  timestamp\n",
            "0      196       242       3  881250949\n",
            "1      186       302       3  891717742\n",
            "2       22       377       1  878887116\n",
            "3      244        51       2  880606923\n",
            "4      166       346       1  886397596\n"
          ]
        }
      ],
      "source": [
        "#ratings\n",
        "\n",
        "import pandas as pd\n",
        "\n",
        "# Load the ratings dataset\n",
        "ratings = pd.read_csv('u.data', sep='\\t', names=['user_id', 'movie_id', 'rating', 'timestamp'])\n",
        "print(\"\\nRatings dataset:\")\n",
        "print(ratings.head())\n"
      ]
    },
    {
      "cell_type": "code",
      "execution_count": 156,
      "metadata": {
        "id": "zM8IJGh-CLN5",
        "colab": {
          "base_uri": "https://localhost:8080/"
        },
        "outputId": "ced81afa-82d1-43bc-8a77-709ec17811fc"
      },
      "outputs": [
        {
          "output_type": "stream",
          "name": "stdout",
          "text": [
            "\n",
            "Movies dataset:\n",
            "   movie_id              title release_date\n",
            "0         1   Toy Story (1995)  01-Jan-1995\n",
            "1         2   GoldenEye (1995)  01-Jan-1995\n",
            "2         3  Four Rooms (1995)  01-Jan-1995\n",
            "3         4  Get Shorty (1995)  01-Jan-1995\n",
            "4         5     Copycat (1995)  01-Jan-1995\n"
          ]
        }
      ],
      "source": [
        "#movies\n",
        "\n",
        "import pandas as pd\n",
        "# Load the movies dataset\n",
        "movies = pd.read_csv('u.item', sep='|', encoding='latin-1', usecols=[0, 1, 2], names=['movie_id', 'title', 'release_date'])\n",
        "print(\"\\nMovies dataset:\")\n",
        "print(movies.head())\n"
      ]
    },
    {
      "cell_type": "code",
      "execution_count": 157,
      "metadata": {
        "id": "hsekVjevCNKj",
        "colab": {
          "base_uri": "https://localhost:8080/"
        },
        "outputId": "f85ac9f1-7330-4eda-8bee-2e60367530a8"
      },
      "outputs": [
        {
          "output_type": "stream",
          "name": "stdout",
          "text": [
            "\n",
            "Users dataset:\n",
            "   user_id  age gender  occupation\n",
            "0        1   24      M  technician\n",
            "1        2   53      F       other\n",
            "2        3   23      M      writer\n",
            "3        4   24      M  technician\n",
            "4        5   33      F       other\n"
          ]
        }
      ],
      "source": [
        "# users\n",
        "\n",
        "import pandas as pd\n",
        "# Load the users dataset\n",
        "users = pd.read_csv('u.user', sep='|', usecols=[0, 1, 2, 3], names=['user_id', 'age', 'gender', 'occupation'])\n",
        "print(\"\\nUsers dataset:\")\n",
        "print(users.head())"
      ]
    },
    {
      "cell_type": "markdown",
      "metadata": {
        "id": "jE5OHLqt7xeq"
      },
      "source": [
        "**Note:** As a **Bonus** task save the `ratings`, `movies` and `users` dataframe created into a `.csv` file format. <br>\n",
        "**Hint:** Use the `to_csv()` function in pandas to save these DataFrames as CSV files."
      ]
    },
    {
      "cell_type": "code",
      "execution_count": 158,
      "metadata": {
        "id": "Chyv3c4n8wVC",
        "colab": {
          "base_uri": "https://localhost:8080/",
          "height": 17
        },
        "outputId": "8750281f-4dc8-411e-a0c1-d78645681211"
      },
      "outputs": [
        {
          "output_type": "display_data",
          "data": {
            "text/plain": [
              "<IPython.core.display.Javascript object>"
            ],
            "application/javascript": [
              "\n",
              "    async function download(id, filename, size) {\n",
              "      if (!google.colab.kernel.accessAllowed) {\n",
              "        return;\n",
              "      }\n",
              "      const div = document.createElement('div');\n",
              "      const label = document.createElement('label');\n",
              "      label.textContent = `Downloading \"${filename}\": `;\n",
              "      div.appendChild(label);\n",
              "      const progress = document.createElement('progress');\n",
              "      progress.max = size;\n",
              "      div.appendChild(progress);\n",
              "      document.body.appendChild(div);\n",
              "\n",
              "      const buffers = [];\n",
              "      let downloaded = 0;\n",
              "\n",
              "      const channel = await google.colab.kernel.comms.open(id);\n",
              "      // Send a message to notify the kernel that we're ready.\n",
              "      channel.send({})\n",
              "\n",
              "      for await (const message of channel.messages) {\n",
              "        // Send a message to notify the kernel that we're ready.\n",
              "        channel.send({})\n",
              "        if (message.buffers) {\n",
              "          for (const buffer of message.buffers) {\n",
              "            buffers.push(buffer);\n",
              "            downloaded += buffer.byteLength;\n",
              "            progress.value = downloaded;\n",
              "          }\n",
              "        }\n",
              "      }\n",
              "      const blob = new Blob(buffers, {type: 'application/binary'});\n",
              "      const a = document.createElement('a');\n",
              "      a.href = window.URL.createObjectURL(blob);\n",
              "      a.download = filename;\n",
              "      div.appendChild(a);\n",
              "      a.click();\n",
              "      div.remove();\n",
              "    }\n",
              "  "
            ]
          },
          "metadata": {}
        },
        {
          "output_type": "display_data",
          "data": {
            "text/plain": [
              "<IPython.core.display.Javascript object>"
            ],
            "application/javascript": [
              "download(\"download_9eaaa84d-c7e6-4c76-97a3-dfd257260fd9\", \"ratings.csv\", 1979207)"
            ]
          },
          "metadata": {}
        }
      ],
      "source": [
        "# ratings\n",
        "\n",
        "# Save the Ratings DataFrame to CSV file\n",
        "ratings.to_csv('ratings.csv', index=False)\n",
        "\n",
        "\n",
        "# Export the CSV files\n",
        "from google.colab import files\n",
        "files.download('ratings.csv')\n",
        "\n"
      ]
    },
    {
      "cell_type": "code",
      "execution_count": 159,
      "metadata": {
        "id": "Gl7zVV3y8wKU",
        "colab": {
          "base_uri": "https://localhost:8080/",
          "height": 17
        },
        "outputId": "8e61cb05-cf60-4196-ef22-2a86a91c8e69"
      },
      "outputs": [
        {
          "output_type": "display_data",
          "data": {
            "text/plain": [
              "<IPython.core.display.Javascript object>"
            ],
            "application/javascript": [
              "\n",
              "    async function download(id, filename, size) {\n",
              "      if (!google.colab.kernel.accessAllowed) {\n",
              "        return;\n",
              "      }\n",
              "      const div = document.createElement('div');\n",
              "      const label = document.createElement('label');\n",
              "      label.textContent = `Downloading \"${filename}\": `;\n",
              "      div.appendChild(label);\n",
              "      const progress = document.createElement('progress');\n",
              "      progress.max = size;\n",
              "      div.appendChild(progress);\n",
              "      document.body.appendChild(div);\n",
              "\n",
              "      const buffers = [];\n",
              "      let downloaded = 0;\n",
              "\n",
              "      const channel = await google.colab.kernel.comms.open(id);\n",
              "      // Send a message to notify the kernel that we're ready.\n",
              "      channel.send({})\n",
              "\n",
              "      for await (const message of channel.messages) {\n",
              "        // Send a message to notify the kernel that we're ready.\n",
              "        channel.send({})\n",
              "        if (message.buffers) {\n",
              "          for (const buffer of message.buffers) {\n",
              "            buffers.push(buffer);\n",
              "            downloaded += buffer.byteLength;\n",
              "            progress.value = downloaded;\n",
              "          }\n",
              "        }\n",
              "      }\n",
              "      const blob = new Blob(buffers, {type: 'application/binary'});\n",
              "      const a = document.createElement('a');\n",
              "      a.href = window.URL.createObjectURL(blob);\n",
              "      a.download = filename;\n",
              "      div.appendChild(a);\n",
              "      a.click();\n",
              "      div.remove();\n",
              "    }\n",
              "  "
            ]
          },
          "metadata": {}
        },
        {
          "output_type": "display_data",
          "data": {
            "text/plain": [
              "<IPython.core.display.Javascript object>"
            ],
            "application/javascript": [
              "download(\"download_b243a687-238f-4528-9bc1-348c1fad14af\", \"movies.csv\", 69478)"
            ]
          },
          "metadata": {}
        }
      ],
      "source": [
        "# movies\n",
        "\n",
        "# Save the Movies DataFrame to CSV file\n",
        "movies.to_csv('movies.csv', index=False)\n",
        "\n",
        "# Export the CSV files\n",
        "from google.colab import files\n",
        "files.download('movies.csv')"
      ]
    },
    {
      "cell_type": "code",
      "execution_count": 160,
      "metadata": {
        "id": "0YwVuebp8u46",
        "colab": {
          "base_uri": "https://localhost:8080/",
          "height": 17
        },
        "outputId": "c3f0d45f-b384-421a-c584-64ce0ab523a8"
      },
      "outputs": [
        {
          "output_type": "display_data",
          "data": {
            "text/plain": [
              "<IPython.core.display.Javascript object>"
            ],
            "application/javascript": [
              "\n",
              "    async function download(id, filename, size) {\n",
              "      if (!google.colab.kernel.accessAllowed) {\n",
              "        return;\n",
              "      }\n",
              "      const div = document.createElement('div');\n",
              "      const label = document.createElement('label');\n",
              "      label.textContent = `Downloading \"${filename}\": `;\n",
              "      div.appendChild(label);\n",
              "      const progress = document.createElement('progress');\n",
              "      progress.max = size;\n",
              "      div.appendChild(progress);\n",
              "      document.body.appendChild(div);\n",
              "\n",
              "      const buffers = [];\n",
              "      let downloaded = 0;\n",
              "\n",
              "      const channel = await google.colab.kernel.comms.open(id);\n",
              "      // Send a message to notify the kernel that we're ready.\n",
              "      channel.send({})\n",
              "\n",
              "      for await (const message of channel.messages) {\n",
              "        // Send a message to notify the kernel that we're ready.\n",
              "        channel.send({})\n",
              "        if (message.buffers) {\n",
              "          for (const buffer of message.buffers) {\n",
              "            buffers.push(buffer);\n",
              "            downloaded += buffer.byteLength;\n",
              "            progress.value = downloaded;\n",
              "          }\n",
              "        }\n",
              "      }\n",
              "      const blob = new Blob(buffers, {type: 'application/binary'});\n",
              "      const a = document.createElement('a');\n",
              "      a.href = window.URL.createObjectURL(blob);\n",
              "      a.download = filename;\n",
              "      div.appendChild(a);\n",
              "      a.click();\n",
              "      div.remove();\n",
              "    }\n",
              "  "
            ]
          },
          "metadata": {}
        },
        {
          "output_type": "display_data",
          "data": {
            "text/plain": [
              "<IPython.core.display.Javascript object>"
            ],
            "application/javascript": [
              "download(\"download_c97f279b-ffde-4511-9403-86112d047beb\", \"users.csv\", 17000)"
            ]
          },
          "metadata": {}
        }
      ],
      "source": [
        "# users\n",
        "\n",
        "# Save the Users DataFrame to CSV file\n",
        "users.to_csv('users.csv', index=False)\n",
        "\n",
        "# Export the CSV files\n",
        "from google.colab import files\n",
        "files.download('users.csv')"
      ]
    },
    {
      "cell_type": "markdown",
      "metadata": {
        "id": "s3S1y82cCYxx"
      },
      "source": [
        "**Display the first 10 rows of each file.**"
      ]
    },
    {
      "cell_type": "code",
      "execution_count": 161,
      "metadata": {
        "id": "x5ZOXTqnCPgw",
        "colab": {
          "base_uri": "https://localhost:8080/"
        },
        "outputId": "e8d5d5c1-24c7-4b64-adff-77da4aec063b"
      },
      "outputs": [
        {
          "output_type": "stream",
          "name": "stdout",
          "text": [
            "Ratings (first 10 rows):\n",
            "    user_id  movie_id  rating  timestamp\n",
            "0      196       242       3  881250949\n",
            "1      186       302       3  891717742\n",
            "2       22       377       1  878887116\n",
            "3      244        51       2  880606923\n",
            "4      166       346       1  886397596\n",
            "5      298       474       4  884182806\n",
            "6      115       265       2  881171488\n",
            "7      253       465       5  891628467\n",
            "8      305       451       3  886324817\n",
            "9        6        86       3  883603013\n"
          ]
        }
      ],
      "source": [
        "# ratings\n",
        "\n",
        "import pandas as pd\n",
        "\n",
        "\n",
        "try:\n",
        "    ratings_df = pd.read_csv('ratings.csv')\n",
        "    print(\"Ratings (first 10 rows):\\n\", ratings_df.head(10)) #displays first 10 rows\n",
        "except FileNotFoundError:\n",
        "    print(\"ratings.csv not found.\")\n",
        "\n"
      ]
    },
    {
      "cell_type": "code",
      "execution_count": 162,
      "metadata": {
        "id": "AzuqiRkrCdfZ",
        "colab": {
          "base_uri": "https://localhost:8080/"
        },
        "outputId": "5a864724-3cc6-4920-c356-b81611d16b96"
      },
      "outputs": [
        {
          "output_type": "stream",
          "name": "stdout",
          "text": [
            "\n",
            "Movies (first 10 rows):\n",
            "    movie_id                                              title release_date\n",
            "0         1                                   Toy Story (1995)  01-Jan-1995\n",
            "1         2                                   GoldenEye (1995)  01-Jan-1995\n",
            "2         3                                  Four Rooms (1995)  01-Jan-1995\n",
            "3         4                                  Get Shorty (1995)  01-Jan-1995\n",
            "4         5                                     Copycat (1995)  01-Jan-1995\n",
            "5         6  Shanghai Triad (Yao a yao yao dao waipo qiao) ...  01-Jan-1995\n",
            "6         7                              Twelve Monkeys (1995)  01-Jan-1995\n",
            "7         8                                        Babe (1995)  01-Jan-1995\n",
            "8         9                            Dead Man Walking (1995)  01-Jan-1995\n",
            "9        10                                 Richard III (1995)  22-Jan-1996\n"
          ]
        }
      ],
      "source": [
        "# movies\n",
        "\n",
        "import pandas as pd\n",
        "\n",
        "try:\n",
        "    movies_df = pd.read_csv('movies.csv')\n",
        "    print(\"\\nMovies (first 10 rows):\\n\", movies_df.head(10)) #displays first 10 rows\n",
        "except FileNotFoundError:\n",
        "    print(\"\\nmovies.csv not found.\")\n"
      ]
    },
    {
      "cell_type": "code",
      "execution_count": 163,
      "metadata": {
        "id": "FE9hcM9mCewe",
        "colab": {
          "base_uri": "https://localhost:8080/"
        },
        "outputId": "dbf45425-b2d0-4913-a87b-90686624c00a"
      },
      "outputs": [
        {
          "output_type": "stream",
          "name": "stdout",
          "text": [
            "\n",
            "Users (first 10 rows):\n",
            "    user_id  age gender     occupation\n",
            "0        1   24      M     technician\n",
            "1        2   53      F          other\n",
            "2        3   23      M         writer\n",
            "3        4   24      M     technician\n",
            "4        5   33      F          other\n",
            "5        6   42      M      executive\n",
            "6        7   57      M  administrator\n",
            "7        8   36      M  administrator\n",
            "8        9   29      M        student\n",
            "9       10   53      M         lawyer\n"
          ]
        }
      ],
      "source": [
        "# users\n",
        "\n",
        "import pandas as pd\n",
        "\n",
        "try:\n",
        "    users_df = pd.read_csv('users.csv')\n",
        "    print(\"\\nUsers (first 10 rows):\\n\", users_df.head(10)) #displays first 10 rows\n",
        "except FileNotFoundError:\n",
        "    print(\"\\nusers.csv not found.\")\n",
        "\n"
      ]
    },
    {
      "cell_type": "markdown",
      "metadata": {
        "id": "i38iDIz-DiVj"
      },
      "source": [
        "### Data Cleaning and Exploration with Pandas  \n",
        "\n",
        "After loading the dataset, it’s important to clean and explore the data to ensure consistency and accuracy. Below are key **pandas** functions for cleaning and understanding the dataset.\n",
        "\n",
        "#### 1. Handle Missing Values  \n",
        "- `df.dropna()` – Removes rows with missing values.  \n",
        "- `df.fillna(value)` – Fills missing values with a specified value.  \n",
        "\n",
        "#### 2. Remove Duplicates  \n",
        "- `df.drop_duplicates()` – Drops duplicate rows from the dataset.  \n",
        "\n",
        "#### 3. Handle Incorrect Data Types  \n",
        "- `df.astype(dtype)` – Converts columns to the appropriate data type.  \n",
        "\n",
        "#### 4. Filter Outliers (if applicable)  \n",
        "- `df[df['column_name'] > threshold]` – Filters rows based on a condition.  \n",
        "\n",
        "#### 5. Rename Columns (if needed)  \n",
        "- `df.rename(columns={'old_name': 'new_name'})` – Renames columns for clarity.  \n",
        "\n",
        "#### 6. Reset Index  \n",
        "- `df.reset_index(drop=True, inplace=True)` – Resets the index after cleaning.  \n",
        "\n",
        "### Data Exploration Functions  \n",
        "\n",
        "To better understand the dataset, use these **pandas** functions:  \n",
        "\n",
        "- `df.shape` – Returns the number of rows and columns in the dataset.  \n",
        "- `df.nunique()` – Displays the number of unique values in each column.  \n",
        "- `df['column_name'].unique()` – Returns unique values in a specific column.  \n",
        "\n",
        "**Example Usage in Pandas:**  \n",
        "```python\n",
        "import pandas as pd\n",
        "\n",
        "# Load dataset\n",
        "df = pd.read_csv(\"your_file.csv\")\n",
        "\n",
        "# Drop missing values\n",
        "df_cleaned = df.dropna()\n",
        "\n",
        "# Remove duplicate rows\n",
        "df_cleaned = df_cleaned.drop_duplicates()\n",
        "\n",
        "# Convert 'timestamp' column to datetime format\n",
        "df_cleaned['timestamp'] = pd.to_datetime(df_cleaned['timestamp'])\n",
        "\n",
        "# Display dataset shape\n",
        "print(\"Dataset shape:\", df_cleaned.shape)\n",
        "\n",
        "# Display number of unique values in each column\n",
        "print(\"Unique values per column:\\n\", df_cleaned.nunique())\n",
        "\n",
        "# Display unique movie IDs\n",
        "print(\"Unique movie IDs:\", df_cleaned['movie_id'].unique()[:10])  # Show first 10 unique movie IDs\n"
      ]
    },
    {
      "cell_type": "markdown",
      "metadata": {
        "id": "4cwmLON4EItA"
      },
      "source": [
        "**Note:** The functions mentioned above are some of the widely used **pandas** functions for data cleaning and exploration. However, it is not necessary that all of these functions will be required in the exercises below. Use them as needed based on the dataset and the specific tasks."
      ]
    },
    {
      "cell_type": "code",
      "source": [
        "# to use some of the data exploration functions like df.shape, df.nunique(), df['column_name'].unique()\n",
        "\n",
        "# Load dataset\n",
        "df = pd.read_csv('ratings.csv')\n",
        "df_m = pd.read_csv('movies.csv')\n",
        "df_u = pd.read_csv('users.csv')\n",
        "\n",
        "# Display dataset shape\n",
        "print(\"Ratings dataset shape:\", df.shape)\n",
        "print(\"Movies dataset shape:\", df_m.shape)\n",
        "print(\"Users dataset shape:\", df_u.shape)\n",
        "\n",
        "# Display number of unique values in each column\n",
        "print(\"\\nRatings unique values per column:\\n\", df.nunique())\n",
        "print(\"\\nMovies unique values per column:\\n\", df_m.nunique())\n",
        "print(\"\\nUsers unique values per column:\\n\", df_u.nunique())\n",
        "\n",
        "# Display unique values in specific columns\n",
        "print(\"\\nUnique movie IDs:\", df['movie_id'].unique()[:10])  # Show first 10 unique movie IDs\n",
        "print(\"\\nUnique user IDs:\", df['user_id'].unique()[:10])  # Show first 10 unique user IDs\n",
        "print(\"\\nUnique ratings:\", df['rating'].unique())\n",
        "print(\"\\nUnique occupations:\", df_u['occupation'].unique())\n"
      ],
      "metadata": {
        "colab": {
          "base_uri": "https://localhost:8080/"
        },
        "id": "m_htoYqs6aO0",
        "outputId": "5104170e-2fc1-4d1a-d53d-0d242c7a8578"
      },
      "execution_count": 164,
      "outputs": [
        {
          "output_type": "stream",
          "name": "stdout",
          "text": [
            "Ratings dataset shape: (100000, 4)\n",
            "Movies dataset shape: (1682, 3)\n",
            "Users dataset shape: (943, 4)\n",
            "\n",
            "Ratings unique values per column:\n",
            " user_id        943\n",
            "movie_id      1682\n",
            "rating           5\n",
            "timestamp    49282\n",
            "dtype: int64\n",
            "\n",
            "Movies unique values per column:\n",
            " movie_id        1682\n",
            "title           1664\n",
            "release_date     240\n",
            "dtype: int64\n",
            "\n",
            "Users unique values per column:\n",
            " user_id       943\n",
            "age            61\n",
            "gender          2\n",
            "occupation     21\n",
            "dtype: int64\n",
            "\n",
            "Unique movie IDs: [242 302 377  51 346 474 265 465 451  86]\n",
            "\n",
            "Unique user IDs: [196 186  22 244 166 298 115 253 305   6]\n",
            "\n",
            "Unique ratings: [3 1 2 4 5]\n",
            "\n",
            "Unique occupations: ['technician' 'other' 'writer' 'executive' 'administrator' 'student'\n",
            " 'lawyer' 'educator' 'scientist' 'entertainment' 'programmer' 'librarian'\n",
            " 'homemaker' 'artist' 'engineer' 'marketing' 'none' 'healthcare' 'retired'\n",
            " 'salesman' 'doctor']\n"
          ]
        }
      ]
    },
    {
      "cell_type": "markdown",
      "metadata": {
        "id": "Tn0bLOSACxMP"
      },
      "source": [
        "**Convert Timestamps into Readable dates.**"
      ]
    },
    {
      "cell_type": "code",
      "execution_count": 165,
      "metadata": {
        "id": "9MwnDxeeCf8b",
        "colab": {
          "base_uri": "https://localhost:8080/",
          "height": 206
        },
        "outputId": "6c42a3b2-7eb2-478f-8f09-e29b0a0ec7bc"
      },
      "outputs": [
        {
          "output_type": "execute_result",
          "data": {
            "text/plain": [
              "   user_id  movie_id  rating                     timestamp\n",
              "0      196       242       3 1970-01-01 00:00:00.881250949\n",
              "1      186       302       3 1970-01-01 00:00:00.891717742\n",
              "2       22       377       1 1970-01-01 00:00:00.878887116\n",
              "3      244        51       2 1970-01-01 00:00:00.880606923\n",
              "4      166       346       1 1970-01-01 00:00:00.886397596"
            ],
            "text/html": [
              "\n",
              "  <div id=\"df-ef943cb0-84e1-4489-ab3f-3a760a897056\" class=\"colab-df-container\">\n",
              "    <div>\n",
              "<style scoped>\n",
              "    .dataframe tbody tr th:only-of-type {\n",
              "        vertical-align: middle;\n",
              "    }\n",
              "\n",
              "    .dataframe tbody tr th {\n",
              "        vertical-align: top;\n",
              "    }\n",
              "\n",
              "    .dataframe thead th {\n",
              "        text-align: right;\n",
              "    }\n",
              "</style>\n",
              "<table border=\"1\" class=\"dataframe\">\n",
              "  <thead>\n",
              "    <tr style=\"text-align: right;\">\n",
              "      <th></th>\n",
              "      <th>user_id</th>\n",
              "      <th>movie_id</th>\n",
              "      <th>rating</th>\n",
              "      <th>timestamp</th>\n",
              "    </tr>\n",
              "  </thead>\n",
              "  <tbody>\n",
              "    <tr>\n",
              "      <th>0</th>\n",
              "      <td>196</td>\n",
              "      <td>242</td>\n",
              "      <td>3</td>\n",
              "      <td>1970-01-01 00:00:00.881250949</td>\n",
              "    </tr>\n",
              "    <tr>\n",
              "      <th>1</th>\n",
              "      <td>186</td>\n",
              "      <td>302</td>\n",
              "      <td>3</td>\n",
              "      <td>1970-01-01 00:00:00.891717742</td>\n",
              "    </tr>\n",
              "    <tr>\n",
              "      <th>2</th>\n",
              "      <td>22</td>\n",
              "      <td>377</td>\n",
              "      <td>1</td>\n",
              "      <td>1970-01-01 00:00:00.878887116</td>\n",
              "    </tr>\n",
              "    <tr>\n",
              "      <th>3</th>\n",
              "      <td>244</td>\n",
              "      <td>51</td>\n",
              "      <td>2</td>\n",
              "      <td>1970-01-01 00:00:00.880606923</td>\n",
              "    </tr>\n",
              "    <tr>\n",
              "      <th>4</th>\n",
              "      <td>166</td>\n",
              "      <td>346</td>\n",
              "      <td>1</td>\n",
              "      <td>1970-01-01 00:00:00.886397596</td>\n",
              "    </tr>\n",
              "  </tbody>\n",
              "</table>\n",
              "</div>\n",
              "    <div class=\"colab-df-buttons\">\n",
              "\n",
              "  <div class=\"colab-df-container\">\n",
              "    <button class=\"colab-df-convert\" onclick=\"convertToInteractive('df-ef943cb0-84e1-4489-ab3f-3a760a897056')\"\n",
              "            title=\"Convert this dataframe to an interactive table.\"\n",
              "            style=\"display:none;\">\n",
              "\n",
              "  <svg xmlns=\"http://www.w3.org/2000/svg\" height=\"24px\" viewBox=\"0 -960 960 960\">\n",
              "    <path d=\"M120-120v-720h720v720H120Zm60-500h600v-160H180v160Zm220 220h160v-160H400v160Zm0 220h160v-160H400v160ZM180-400h160v-160H180v160Zm440 0h160v-160H620v160ZM180-180h160v-160H180v160Zm440 0h160v-160H620v160Z\"/>\n",
              "  </svg>\n",
              "    </button>\n",
              "\n",
              "  <style>\n",
              "    .colab-df-container {\n",
              "      display:flex;\n",
              "      gap: 12px;\n",
              "    }\n",
              "\n",
              "    .colab-df-convert {\n",
              "      background-color: #E8F0FE;\n",
              "      border: none;\n",
              "      border-radius: 50%;\n",
              "      cursor: pointer;\n",
              "      display: none;\n",
              "      fill: #1967D2;\n",
              "      height: 32px;\n",
              "      padding: 0 0 0 0;\n",
              "      width: 32px;\n",
              "    }\n",
              "\n",
              "    .colab-df-convert:hover {\n",
              "      background-color: #E2EBFA;\n",
              "      box-shadow: 0px 1px 2px rgba(60, 64, 67, 0.3), 0px 1px 3px 1px rgba(60, 64, 67, 0.15);\n",
              "      fill: #174EA6;\n",
              "    }\n",
              "\n",
              "    .colab-df-buttons div {\n",
              "      margin-bottom: 4px;\n",
              "    }\n",
              "\n",
              "    [theme=dark] .colab-df-convert {\n",
              "      background-color: #3B4455;\n",
              "      fill: #D2E3FC;\n",
              "    }\n",
              "\n",
              "    [theme=dark] .colab-df-convert:hover {\n",
              "      background-color: #434B5C;\n",
              "      box-shadow: 0px 1px 3px 1px rgba(0, 0, 0, 0.15);\n",
              "      filter: drop-shadow(0px 1px 2px rgba(0, 0, 0, 0.3));\n",
              "      fill: #FFFFFF;\n",
              "    }\n",
              "  </style>\n",
              "\n",
              "    <script>\n",
              "      const buttonEl =\n",
              "        document.querySelector('#df-ef943cb0-84e1-4489-ab3f-3a760a897056 button.colab-df-convert');\n",
              "      buttonEl.style.display =\n",
              "        google.colab.kernel.accessAllowed ? 'block' : 'none';\n",
              "\n",
              "      async function convertToInteractive(key) {\n",
              "        const element = document.querySelector('#df-ef943cb0-84e1-4489-ab3f-3a760a897056');\n",
              "        const dataTable =\n",
              "          await google.colab.kernel.invokeFunction('convertToInteractive',\n",
              "                                                    [key], {});\n",
              "        if (!dataTable) return;\n",
              "\n",
              "        const docLinkHtml = 'Like what you see? Visit the ' +\n",
              "          '<a target=\"_blank\" href=https://colab.research.google.com/notebooks/data_table.ipynb>data table notebook</a>'\n",
              "          + ' to learn more about interactive tables.';\n",
              "        element.innerHTML = '';\n",
              "        dataTable['output_type'] = 'display_data';\n",
              "        await google.colab.output.renderOutput(dataTable, element);\n",
              "        const docLink = document.createElement('div');\n",
              "        docLink.innerHTML = docLinkHtml;\n",
              "        element.appendChild(docLink);\n",
              "      }\n",
              "    </script>\n",
              "  </div>\n",
              "\n",
              "\n",
              "<div id=\"df-0922f71f-42b1-4405-a3ff-ac1f0c3d9f49\">\n",
              "  <button class=\"colab-df-quickchart\" onclick=\"quickchart('df-0922f71f-42b1-4405-a3ff-ac1f0c3d9f49')\"\n",
              "            title=\"Suggest charts\"\n",
              "            style=\"display:none;\">\n",
              "\n",
              "<svg xmlns=\"http://www.w3.org/2000/svg\" height=\"24px\"viewBox=\"0 0 24 24\"\n",
              "     width=\"24px\">\n",
              "    <g>\n",
              "        <path d=\"M19 3H5c-1.1 0-2 .9-2 2v14c0 1.1.9 2 2 2h14c1.1 0 2-.9 2-2V5c0-1.1-.9-2-2-2zM9 17H7v-7h2v7zm4 0h-2V7h2v10zm4 0h-2v-4h2v4z\"/>\n",
              "    </g>\n",
              "</svg>\n",
              "  </button>\n",
              "\n",
              "<style>\n",
              "  .colab-df-quickchart {\n",
              "      --bg-color: #E8F0FE;\n",
              "      --fill-color: #1967D2;\n",
              "      --hover-bg-color: #E2EBFA;\n",
              "      --hover-fill-color: #174EA6;\n",
              "      --disabled-fill-color: #AAA;\n",
              "      --disabled-bg-color: #DDD;\n",
              "  }\n",
              "\n",
              "  [theme=dark] .colab-df-quickchart {\n",
              "      --bg-color: #3B4455;\n",
              "      --fill-color: #D2E3FC;\n",
              "      --hover-bg-color: #434B5C;\n",
              "      --hover-fill-color: #FFFFFF;\n",
              "      --disabled-bg-color: #3B4455;\n",
              "      --disabled-fill-color: #666;\n",
              "  }\n",
              "\n",
              "  .colab-df-quickchart {\n",
              "    background-color: var(--bg-color);\n",
              "    border: none;\n",
              "    border-radius: 50%;\n",
              "    cursor: pointer;\n",
              "    display: none;\n",
              "    fill: var(--fill-color);\n",
              "    height: 32px;\n",
              "    padding: 0;\n",
              "    width: 32px;\n",
              "  }\n",
              "\n",
              "  .colab-df-quickchart:hover {\n",
              "    background-color: var(--hover-bg-color);\n",
              "    box-shadow: 0 1px 2px rgba(60, 64, 67, 0.3), 0 1px 3px 1px rgba(60, 64, 67, 0.15);\n",
              "    fill: var(--button-hover-fill-color);\n",
              "  }\n",
              "\n",
              "  .colab-df-quickchart-complete:disabled,\n",
              "  .colab-df-quickchart-complete:disabled:hover {\n",
              "    background-color: var(--disabled-bg-color);\n",
              "    fill: var(--disabled-fill-color);\n",
              "    box-shadow: none;\n",
              "  }\n",
              "\n",
              "  .colab-df-spinner {\n",
              "    border: 2px solid var(--fill-color);\n",
              "    border-color: transparent;\n",
              "    border-bottom-color: var(--fill-color);\n",
              "    animation:\n",
              "      spin 1s steps(1) infinite;\n",
              "  }\n",
              "\n",
              "  @keyframes spin {\n",
              "    0% {\n",
              "      border-color: transparent;\n",
              "      border-bottom-color: var(--fill-color);\n",
              "      border-left-color: var(--fill-color);\n",
              "    }\n",
              "    20% {\n",
              "      border-color: transparent;\n",
              "      border-left-color: var(--fill-color);\n",
              "      border-top-color: var(--fill-color);\n",
              "    }\n",
              "    30% {\n",
              "      border-color: transparent;\n",
              "      border-left-color: var(--fill-color);\n",
              "      border-top-color: var(--fill-color);\n",
              "      border-right-color: var(--fill-color);\n",
              "    }\n",
              "    40% {\n",
              "      border-color: transparent;\n",
              "      border-right-color: var(--fill-color);\n",
              "      border-top-color: var(--fill-color);\n",
              "    }\n",
              "    60% {\n",
              "      border-color: transparent;\n",
              "      border-right-color: var(--fill-color);\n",
              "    }\n",
              "    80% {\n",
              "      border-color: transparent;\n",
              "      border-right-color: var(--fill-color);\n",
              "      border-bottom-color: var(--fill-color);\n",
              "    }\n",
              "    90% {\n",
              "      border-color: transparent;\n",
              "      border-bottom-color: var(--fill-color);\n",
              "    }\n",
              "  }\n",
              "</style>\n",
              "\n",
              "  <script>\n",
              "    async function quickchart(key) {\n",
              "      const quickchartButtonEl =\n",
              "        document.querySelector('#' + key + ' button');\n",
              "      quickchartButtonEl.disabled = true;  // To prevent multiple clicks.\n",
              "      quickchartButtonEl.classList.add('colab-df-spinner');\n",
              "      try {\n",
              "        const charts = await google.colab.kernel.invokeFunction(\n",
              "            'suggestCharts', [key], {});\n",
              "      } catch (error) {\n",
              "        console.error('Error during call to suggestCharts:', error);\n",
              "      }\n",
              "      quickchartButtonEl.classList.remove('colab-df-spinner');\n",
              "      quickchartButtonEl.classList.add('colab-df-quickchart-complete');\n",
              "    }\n",
              "    (() => {\n",
              "      let quickchartButtonEl =\n",
              "        document.querySelector('#df-0922f71f-42b1-4405-a3ff-ac1f0c3d9f49 button');\n",
              "      quickchartButtonEl.style.display =\n",
              "        google.colab.kernel.accessAllowed ? 'block' : 'none';\n",
              "    })();\n",
              "  </script>\n",
              "</div>\n",
              "\n",
              "    </div>\n",
              "  </div>\n"
            ],
            "application/vnd.google.colaboratory.intrinsic+json": {
              "type": "dataframe",
              "variable_name": "df_cleaned",
              "summary": "{\n  \"name\": \"df_cleaned\",\n  \"rows\": 100000,\n  \"fields\": [\n    {\n      \"column\": \"user_id\",\n      \"properties\": {\n        \"dtype\": \"number\",\n        \"std\": 266,\n        \"min\": 1,\n        \"max\": 943,\n        \"num_unique_values\": 943,\n        \"samples\": [\n          262,\n          136,\n          821\n        ],\n        \"semantic_type\": \"\",\n        \"description\": \"\"\n      }\n    },\n    {\n      \"column\": \"movie_id\",\n      \"properties\": {\n        \"dtype\": \"number\",\n        \"std\": 330,\n        \"min\": 1,\n        \"max\": 1682,\n        \"num_unique_values\": 1682,\n        \"samples\": [\n          1557,\n          808,\n          1618\n        ],\n        \"semantic_type\": \"\",\n        \"description\": \"\"\n      }\n    },\n    {\n      \"column\": \"rating\",\n      \"properties\": {\n        \"dtype\": \"number\",\n        \"std\": 1,\n        \"min\": 1,\n        \"max\": 5,\n        \"num_unique_values\": 5,\n        \"samples\": [\n          1,\n          5,\n          2\n        ],\n        \"semantic_type\": \"\",\n        \"description\": \"\"\n      }\n    },\n    {\n      \"column\": \"timestamp\",\n      \"properties\": {\n        \"dtype\": \"date\",\n        \"min\": \"1970-01-01 00:00:00.874724710\",\n        \"max\": \"1970-01-01 00:00:00.893286638\",\n        \"num_unique_values\": 49282,\n        \"samples\": [\n          \"1970-01-01 00:00:00.889728713\",\n          \"1970-01-01 00:00:00.888443306\",\n          \"1970-01-01 00:00:00.880605158\"\n        ],\n        \"semantic_type\": \"\",\n        \"description\": \"\"\n      }\n    }\n  ]\n}"
            }
          },
          "metadata": {},
          "execution_count": 165
        }
      ],
      "source": [
        "# ratings\n",
        "\n",
        "import pandas as pd\n",
        "\n",
        "# Load dataset\n",
        "df = pd.read_csv('ratings.csv')\n",
        "\n",
        "# Drop missing values\n",
        "df_cleaned = df.dropna()\n",
        "\n",
        "# Remove duplicate rows\n",
        "df_cleaned = df_cleaned.drop_duplicates()\n",
        "\n",
        "# Convert 'timestamp' column to datetime format\n",
        "df_cleaned['timestamp'] = pd.to_datetime(df_cleaned['timestamp'])\n",
        "\n",
        "# Display the updated DataFrame\n",
        "df_cleaned.head()"
      ]
    },
    {
      "cell_type": "markdown",
      "metadata": {
        "id": "oKJB0a9CE0Z4"
      },
      "source": [
        "**Check for Missing Values**"
      ]
    },
    {
      "cell_type": "code",
      "execution_count": 166,
      "metadata": {
        "id": "iYf4NM47DL7q",
        "colab": {
          "base_uri": "https://localhost:8080/"
        },
        "outputId": "bdbb1bbe-b6bd-40ca-8922-12c1b515ca62"
      },
      "outputs": [
        {
          "output_type": "stream",
          "name": "stdout",
          "text": [
            "Missing values:\n",
            "user_id: 0\n",
            "movie_id: 0\n",
            "rating: 0\n",
            "timestamp: 0\n"
          ]
        }
      ],
      "source": [
        "# ratings\n",
        "import pandas as pd\n",
        "\n",
        "# Load the CSV file\n",
        "df_rt = pd.read_csv('ratings.csv')\n",
        "\n",
        "# Check for missing values\n",
        "missing_values = df_rt.isnull().sum()\n",
        "\n",
        "print(\"Missing values:\")\n",
        "for column, count in missing_values.items():\n",
        "    print(f\"{column}: {count}\")\n",
        "\n",
        "df_rt = df_rt.dropna() #Drop any rows with missing values"
      ]
    },
    {
      "cell_type": "code",
      "execution_count": 167,
      "metadata": {
        "id": "hgM78fNaFH2q",
        "colab": {
          "base_uri": "https://localhost:8080/"
        },
        "outputId": "1ed233ba-8d67-4c56-abd2-f3411d9dc70f"
      },
      "outputs": [
        {
          "output_type": "stream",
          "name": "stdout",
          "text": [
            "Missing values:\n",
            "movie_id: 0\n",
            "title: 0\n",
            "release_date: 1\n"
          ]
        }
      ],
      "source": [
        "# movies\n",
        "\n",
        "import pandas as pd\n",
        "\n",
        "# Load the CSV file\n",
        "df_mov = pd.read_csv('movies.csv')\n",
        "\n",
        "# Check for missing values\n",
        "missing_values = df_mov.isnull().sum()\n",
        "\n",
        "print(\"Missing values:\")\n",
        "for column, count in missing_values.items():\n",
        "    print(f\"{column}: {count}\")\n",
        "\n",
        "df_mov = df_mov.dropna() #Drop any rows with missing values\n",
        "\n",
        "#row 267 has no release date. It's a garbage record."
      ]
    },
    {
      "cell_type": "code",
      "execution_count": 168,
      "metadata": {
        "id": "jE8J_cajFA5n",
        "colab": {
          "base_uri": "https://localhost:8080/"
        },
        "outputId": "dd0308b0-fc14-45e5-9f49-524dbd8418a7"
      },
      "outputs": [
        {
          "output_type": "stream",
          "name": "stdout",
          "text": [
            "Missing values:\n",
            "user_id: 0\n",
            "age: 0\n",
            "gender: 0\n",
            "occupation: 0\n"
          ]
        }
      ],
      "source": [
        "# users\n",
        "import pandas as pd\n",
        "\n",
        "# Load the CSV file\n",
        "df_us = pd.read_csv('users.csv')\n",
        "\n",
        "# Check for missing values\n",
        "missing_values = df_us.isnull().sum()\n",
        "\n",
        "print(\"Missing values:\")\n",
        "for column, count in missing_values.items():\n",
        "    print(f\"{column}: {count}\")\n",
        "\n",
        "df_us = df_us.dropna() #Drop any rows with missing values"
      ]
    },
    {
      "cell_type": "markdown",
      "metadata": {
        "id": "1WviFe7iFRoQ"
      },
      "source": [
        "**Print the total number of users, movies, and ratings.**"
      ]
    },
    {
      "cell_type": "code",
      "execution_count": 169,
      "metadata": {
        "id": "eR_QgS9aFTPb",
        "colab": {
          "base_uri": "https://localhost:8080/"
        },
        "outputId": "d1598dea-ec62-49d7-c326-d832dc8a4b2d"
      },
      "outputs": [
        {
          "output_type": "stream",
          "name": "stdout",
          "text": [
            "Total Users: 943\n",
            "Total Movies: 1681\n",
            "Total Ratings: 100000\n"
          ]
        }
      ],
      "source": [
        "import pandas as pd\n",
        "\n",
        "# Print the total number of users, movies and ratings\n",
        "\n",
        "print(f\"Total Users: { df_us['user_id'].count() }\")\n",
        "print(f\"Total Movies: { df_mov['movie_id'].count() }\")\n",
        "print(f\"Total Ratings: { df_rt['rating'].count() }\")"
      ]
    },
    {
      "cell_type": "markdown",
      "metadata": {
        "id": "NjxACjUgFwsk"
      },
      "source": [
        "## **Part 2: Collaborative Filtering-Based Recommendation**"
      ]
    },
    {
      "cell_type": "markdown",
      "metadata": {
        "id": "AyeSaLpRGYuC"
      },
      "source": [
        "### **Create a User-Item Matrix**"
      ]
    },
    {
      "cell_type": "markdown",
      "metadata": {
        "id": "3tKsv-7XHRq2"
      },
      "source": [
        "#### Instructions for Creating a User-Movie Rating Matrix"
      ]
    },
    {
      "cell_type": "markdown",
      "metadata": {
        "id": "lLayr0YbH4tB"
      },
      "source": [
        "In this exercise, you will create a user-movie rating matrix using **pandas**. This matrix will represent the ratings that users have given to different movies.\n",
        "\n",
        "1. **Dataset Overview**:  \n",
        "   The dataset has already been loaded. It includes the following key columns:\n",
        "   - `user_id`: The ID of the user.\n",
        "   - `movie_id`: The ID of the movie.\n",
        "   - `ratings`: The rating the user gave to the movie.\n",
        "\n",
        "2. **Create the User-Movie Rating Matrix**:  \n",
        "   Use the **`pivot()`** function in **pandas** to reshape the data. Your goal is to create a matrix where:\n",
        "   - Each **row** represents a **user**.\n",
        "   - Each **column** represents a **movie**.\n",
        "   - Each **cell** contains the **rating** that the user has given to the movie.\n",
        "\n",
        "   Specify the following parameters for the `pivot()` function:\n",
        "   - **`index`**: The `user_id` column (this will define the rows).\n",
        "   - **`columns`**: The `movie_id` column (this will define the columns).\n",
        "   - **`values`**: The `rating` column (this will fill the matrix with ratings).\n",
        "\n",
        "3. **Inspect the Matrix**:  \n",
        "   After creating the matrix, examine the first few rows of the resulting matrix to ensure it has been constructed correctly.\n",
        "\n",
        "4. **Handle Missing Values**:  \n",
        "   It's likely that some users have not rated every movie, resulting in `NaN` values in the matrix. You will need to handle these missing values. Consider the following options:\n",
        "   - **Fill with 0**: If you wish to represent missing ratings as zeros (indicating no rating).\n",
        "   - **Fill with the average rating**: Alternatively, replace missing values with the average rating for each movie."
      ]
    },
    {
      "cell_type": "markdown",
      "metadata": {
        "id": "E_cdPXYeaD-l"
      },
      "source": [
        "**Create the user-movie rating matrix using the `pivot()` function.**"
      ]
    },
    {
      "cell_type": "code",
      "execution_count": 170,
      "metadata": {
        "id": "Ie858yKEUSfc"
      },
      "outputs": [],
      "source": [
        "\n",
        "# Creating a user-movie rating matrix using the pivot() function.\n",
        "\n",
        "user_movie_matrix = ratings.pivot(index='user_id', columns='movie_id', values='rating').fillna(0)\n",
        "\n"
      ]
    },
    {
      "cell_type": "markdown",
      "metadata": {
        "id": "tyb3h9FmaVGH"
      },
      "source": [
        "**Display the matrix to verify the transformation.**"
      ]
    },
    {
      "cell_type": "code",
      "execution_count": 171,
      "metadata": {
        "id": "16abaOrXabN_",
        "colab": {
          "base_uri": "https://localhost:8080/"
        },
        "outputId": "09d2bb77-4668-4b0c-f813-28927a0e9a83"
      },
      "outputs": [
        {
          "output_type": "stream",
          "name": "stdout",
          "text": [
            "movie_id  1     2     3     4     5     6     7     8     9     10    ...  \\\n",
            "user_id                                                               ...   \n",
            "1          5.0   3.0   4.0   3.0   3.0   5.0   4.0   1.0   5.0   3.0  ...   \n",
            "2          4.0   0.0   0.0   0.0   0.0   0.0   0.0   0.0   0.0   2.0  ...   \n",
            "3          0.0   0.0   0.0   0.0   0.0   0.0   0.0   0.0   0.0   0.0  ...   \n",
            "4          0.0   0.0   0.0   0.0   0.0   0.0   0.0   0.0   0.0   0.0  ...   \n",
            "5          4.0   3.0   0.0   0.0   0.0   0.0   0.0   0.0   0.0   0.0  ...   \n",
            "...        ...   ...   ...   ...   ...   ...   ...   ...   ...   ...  ...   \n",
            "939        0.0   0.0   0.0   0.0   0.0   0.0   0.0   0.0   5.0   0.0  ...   \n",
            "940        0.0   0.0   0.0   2.0   0.0   0.0   4.0   5.0   3.0   0.0  ...   \n",
            "941        5.0   0.0   0.0   0.0   0.0   0.0   4.0   0.0   0.0   0.0  ...   \n",
            "942        0.0   0.0   0.0   0.0   0.0   0.0   0.0   0.0   0.0   0.0  ...   \n",
            "943        0.0   5.0   0.0   0.0   0.0   0.0   0.0   0.0   3.0   0.0  ...   \n",
            "\n",
            "movie_id  1673  1674  1675  1676  1677  1678  1679  1680  1681  1682  \n",
            "user_id                                                               \n",
            "1          0.0   0.0   0.0   0.0   0.0   0.0   0.0   0.0   0.0   0.0  \n",
            "2          0.0   0.0   0.0   0.0   0.0   0.0   0.0   0.0   0.0   0.0  \n",
            "3          0.0   0.0   0.0   0.0   0.0   0.0   0.0   0.0   0.0   0.0  \n",
            "4          0.0   0.0   0.0   0.0   0.0   0.0   0.0   0.0   0.0   0.0  \n",
            "5          0.0   0.0   0.0   0.0   0.0   0.0   0.0   0.0   0.0   0.0  \n",
            "...        ...   ...   ...   ...   ...   ...   ...   ...   ...   ...  \n",
            "939        0.0   0.0   0.0   0.0   0.0   0.0   0.0   0.0   0.0   0.0  \n",
            "940        0.0   0.0   0.0   0.0   0.0   0.0   0.0   0.0   0.0   0.0  \n",
            "941        0.0   0.0   0.0   0.0   0.0   0.0   0.0   0.0   0.0   0.0  \n",
            "942        0.0   0.0   0.0   0.0   0.0   0.0   0.0   0.0   0.0   0.0  \n",
            "943        0.0   0.0   0.0   0.0   0.0   0.0   0.0   0.0   0.0   0.0  \n",
            "\n",
            "[943 rows x 1682 columns]\n"
          ]
        }
      ],
      "source": [
        "# Displaying matrix\n",
        "\n",
        "print(user_movie_matrix)\n"
      ]
    },
    {
      "cell_type": "markdown",
      "metadata": {
        "id": "fOXp00QSbtHk"
      },
      "source": [
        "### **User-Based Collaborative Filtering Recommender System**"
      ]
    },
    {
      "cell_type": "markdown",
      "metadata": {
        "id": "FwKBZk5Sc7YA"
      },
      "source": [
        "#### **Objective**\n",
        "In this task, you will implement a **user-based collaborative filtering** movie recommendation system using the **Movie dataset**. The goal is to recommend movies to a user based on the preferences of similar users."
      ]
    },
    {
      "cell_type": "markdown",
      "metadata": {
        "id": "fZf-Nu2rdPHR"
      },
      "source": [
        "##### **Step 1: Import Required Libraries**\n",
        "Before starting, ensure you have the necessary libraries installed. Use the following imports:\n",
        "\n",
        "```python\n",
        "import pandas as pd  # For handling data\n",
        "import numpy as np   # For numerical computations\n",
        "from sklearn.metrics.pairwise import cosine_similarity  # For computing user similarity\n",
        "```"
      ]
    },
    {
      "cell_type": "markdown",
      "metadata": {
        "id": "qzJNshMbdwyR"
      },
      "source": [
        "##### **Step 2: Compute User-User Similarity**\n",
        "- We will use **cosine similarity** to measure how similar each pair of users is based on their movie ratings.\n",
        "- Since `cosine_similarity` does not handle missing values (NaN), replace them with `0` before computation."
      ]
    },
    {
      "cell_type": "markdown",
      "metadata": {
        "id": "pkO_XtPqd4Sw"
      },
      "source": [
        "##### **Instructions:**\n",
        "1. Fill missing values with `0` using `.fillna(0)`.\n",
        "2. Compute similarity using `cosine_similarity()`.\n",
        "3. Convert the result into a **Pandas DataFrame**, with users as both row and column labels.\n",
        "\n",
        "##### **Hint:**  \n",
        "You can achieve this using the following approach:\n",
        "\n",
        "```python\n",
        "user_similarity = cosine_similarity(user_movie_matrix.fillna(0))\n",
        "user_sim_df = pd.DataFrame(user_similarity, index=user_movie_matrix.index, columns=user_movie_matrix.index)\n",
        "```"
      ]
    },
    {
      "cell_type": "markdown",
      "metadata": {
        "id": "NtmluaSGeBE-"
      },
      "source": [
        "##### **Step 3: Implement the Recommendation Function**\n",
        "Now, implement the function `recommend_movies_for_user(user_id, num=5)` to recommend movies for a given user.\n",
        "\n",
        "##### **Function Inputs:**\n",
        "- `user_id`: The target user for whom we need recommendations.\n",
        "- `num`: The number of movies to recommend (default is 5).\n",
        "\n",
        "##### **Function Steps:**\n",
        "1. Find **similar users**:\n",
        "   - Retrieve the similarity scores for the given `user_id`.\n",
        "   - Sort them in **descending** order (highest similarity first).\n",
        "   - Exclude the user themselves.\n",
        "   \n",
        "2. Get the **movie ratings** from these similar users.\n",
        "\n",
        "3. Compute the **average rating** for each movie based on these users' preferences.\n",
        "\n",
        "4. Sort the movies in **descending order** based on the computed average ratings.\n",
        "\n",
        "5. Retrieve the **top `num` recommended movies**.\n",
        "\n",
        "6. Map **movie IDs** to their **titles** using the `movies` DataFrame.\n",
        "\n",
        "7. Return the results as a **Pandas DataFrame** with rankings."
      ]
    },
    {
      "cell_type": "markdown",
      "metadata": {
        "id": "SgO0zd8LeGJ_"
      },
      "source": [
        "##### **Step 4: Return the Final Recommendation List**\n",
        "Your function should return a **DataFrame** structured as follows:\n",
        "\n",
        "| Ranking | Movie Name |\n",
        "|---------|-----------|\n",
        "| 1       | Movie A   |\n",
        "| 2       | Movie B   |\n",
        "| 3       | Movie C   |\n",
        "| 4       | Movie D   |\n",
        "| 5       | Movie E   |\n",
        "\n",
        "##### **Hint:** Your final DataFrame should be created like this:\n",
        "```python\n",
        "result_df = pd.DataFrame({\n",
        "    'Ranking': range(1, num+1),\n",
        "    'Movie Name': movie_names     \n",
        "})\n",
        "result_df.set_index('Ranking', inplace=True)\n",
        "```\n",
        "\n",
        "#### **Example: User-Based Collaborative Filtering**\n",
        "```python\n",
        "recommend_movies_for_user(10, num = 5)\n",
        "```\n",
        "**Output:**\n",
        "```\n",
        "| Ranking | Movie Name                     |\n",
        "|---------|--------------------------------|\n",
        "| 1       | In the Company of Men (1997)   |\n",
        "| 2       | Misérables, Les (1995)         |\n",
        "| 3       | Thin Blue Line, The (1988)     |\n",
        "| 4       | Braindead (1992)               |\n",
        "| 5       | Boys, Les (1997)               |\n"
      ]
    },
    {
      "cell_type": "markdown",
      "source": [
        "**User Similarity Calculation:**\n",
        "The code computes cosine similarity between all users based on their ratings in user_movie_matrix, resulting in a user_sim_df matrix where each entry represents how similar two users are.\n",
        "\n",
        "**Filtering Similar Users:**\n",
        "For a given user (e.g., user 10), the function retrieves and sorts other users by their similarity scores, excluding the user themselves.\n",
        "\n",
        "**Identifying Unrated Movies:**\n",
        "It identifies which movies the target user has not rated (i.e., entries are 0.0 in the matrix).\n",
        "\n",
        "**Neighbor Rating Aggregation:**\n",
        "For each unrated movie, the function finds neighbors who have rated it, merges these with similarity scores, and averages their ratings to estimate the target user’s potential interest.\n",
        "\n",
        "**Predicted Ratings Compilation:**\n",
        "A list of predicted ratings for each unrated movie is compiled into a DataFrame and sorted by predicted score in descending order.\n",
        "\n",
        "**Mapping Movie IDs to Titles:**\n",
        "Movie IDs are mapped to their corresponding titles using the movies DataFrame, creating a more user-friendly output.\n",
        "\n",
        "**Displaying Recommendations:**\n",
        "The top num (default 5) recommended movies are printed in a formatted table, showing their ranking and title for the user."
      ],
      "metadata": {
        "id": "KBUP09MPJap6"
      }
    },
    {
      "cell_type": "code",
      "source": [
        "# Code the function here\n",
        "\n",
        "import pandas as pd\n",
        "from sklearn.metrics.pairwise import cosine_similarity\n",
        "\n",
        "# Compute User-User Similarity\n",
        "user_similarity = cosine_similarity(user_movie_matrix.fillna(0))\n",
        "user_sim_df = pd.DataFrame(user_similarity, index=user_movie_matrix.index, columns=user_movie_matrix.index)\n",
        "\n",
        "def recommend_movies_for_user(user_id, num=5):\n",
        "   # Get similarity scores for the user and drop the user themselves\n",
        "    user_similarity_scores_df = user_sim_df[[user_id]].sort_values(by=user_id, ascending=False)\n",
        "    user_similarity_scores_df.drop(user_id, inplace=True)\n",
        "    user_similarity_scores_df.reset_index(inplace=True)\n",
        "    user_similarity_scores_df.columns = ['user_id', 'sim_score']\n",
        "\n",
        "    # Get list of movies the user hasn't rated\n",
        "    target_user_unrated_movies = [columns for columns in user_movie_matrix.columns if user_movie_matrix.loc[user_id, columns] == 0.0]\n",
        "\n",
        "    predicted_ratings = []\n",
        "    for movie in target_user_unrated_movies:\n",
        "        # Get non-zero ratings for the current movie\n",
        "        movie_ratings_from_neighbors = user_movie_matrix[[movie]]\n",
        "        movie_ratings_from_neighbors = movie_ratings_from_neighbors[movie_ratings_from_neighbors[movie] > 0.0]\n",
        "        # Merge with user similarity scores\n",
        "        neighbor_ratings_for_movie = pd.merge(user_similarity_scores_df, movie_ratings_from_neighbors, on='user_id')\n",
        "        # Compute average rating from similar users\n",
        "        if not neighbor_ratings_for_movie.empty:\n",
        "            average_neighbor_rating = neighbor_ratings_for_movie.iloc[:, 2].sum() / movie_ratings_from_neighbors.shape[0]\n",
        "        else:\n",
        "            average_neighbor_rating = 0.0\n",
        "        predicted_ratings.append(average_neighbor_rating)\n",
        "\n",
        "    # Prepare prediction DataFrame\n",
        "    data = {\n",
        "    \"movie_id\": target_user_unrated_movies,\n",
        "    \"pred_rating\": predicted_ratings\n",
        "    }\n",
        "    ranked_movie_predictions_df = pd.DataFrame(data)\n",
        "    ranked_movie_predictions_df = ranked_movie_predictions_df.sort_values(by=\"pred_rating\", ascending=False).iloc[:num, :]\n",
        "    movie_id_to_title = dict(zip(movies['movie_id'], movies['title']))\n",
        "    ranked_movie_predictions_df['title'] = ranked_movie_predictions_df['movie_id'].map(movie_id_to_title)\n",
        "\n",
        "    # Print movie table\n",
        "    recommended_titles = list(ranked_movie_predictions_df['title'])\n",
        "    print(f\"| {'Ranking':<7} | {'Movie Name':<62} |\")  # Header with fixed widths\n",
        "    print(f\"|{'-' * 9}|{'-' * 64}|\")  # Separator with fixed widths\n",
        "    for i, name in enumerate(recommended_titles, 1):  # Iterate and print\n",
        "      print(f\"| {i:<7} | {name:<62} |\")\n",
        "\n",
        "# Example usage\n",
        "recommend_movies_for_user(10, num=5)\n"
      ],
      "metadata": {
        "colab": {
          "base_uri": "https://localhost:8080/"
        },
        "id": "t4VzF7hdGTQ3",
        "outputId": "a61fb4eb-0928-481f-d79b-a7d183f4325a"
      },
      "execution_count": 172,
      "outputs": [
        {
          "output_type": "stream",
          "name": "stdout",
          "text": [
            "| Ranking | Movie Name                                                     |\n",
            "|---------|----------------------------------------------------------------|\n",
            "| 1       | Star Kid (1997)                                                |\n",
            "| 2       | Marlene Dietrich: Shadow and Light (1996)                      |\n",
            "| 3       | Someone Else's America (1995)                                  |\n",
            "| 4       | Prefontaine (1997)                                             |\n",
            "| 5       | Saint of Fort Washington, The (1993)                           |\n"
          ]
        }
      ]
    },
    {
      "cell_type": "markdown",
      "source": [
        "**The system generates a diverse set of movie recommendations, including titles like Star Kid (1997) and Marlene Dietrich: Shadow and Light (1996), demonstrating its ability to suggest films across various genres and time periods**.\n",
        "\n",
        "**This diversity enhances the recommendation experience by introducing users to a broader range of options**, including lesser-known or niche films they might not have otherwise encountered.\n",
        "\n",
        "**The output is presented in a straightforward, ranked format that includes movie titles**, contributing to a user-friendly and accessible interface.\n",
        "\n",
        "**By focusing on user similarity, the system offers personalized recommendations that align closely with individual preferences**, resulting in a more engaging and tailored movie discovery process.\n",
        "\n",
        "\n",
        "\n",
        "\n",
        "\n",
        "\n",
        "\n",
        "\n"
      ],
      "metadata": {
        "id": "aSOYCc2zXJt_"
      }
    },
    {
      "cell_type": "markdown",
      "metadata": {
        "id": "MIN3XqC0eUAu"
      },
      "source": [
        "### **Item-Based Collaborative Filtering Recommender System**"
      ]
    },
    {
      "cell_type": "markdown",
      "metadata": {
        "id": "ytqWK-4ze2aA"
      },
      "source": [
        "#### **Objective**\n",
        "In this task, you will implement an **item-based collaborative filtering** recommendation system using the **Movie dataset**. The goal is to recommend movies similar to a given movie based on user rating patterns."
      ]
    },
    {
      "cell_type": "markdown",
      "metadata": {
        "id": "Q0-HuDvffY57"
      },
      "source": [
        "#### **Step 1: Import Required Libraries**\n",
        "Although we have done this part already in the previous task but just to emphasize the importance reiterrating this part.\n",
        "\n",
        "Before starting, ensure you have the necessary libraries installed. Use the following imports:\n",
        "\n",
        "```python\n",
        "import pandas as pd  # For handling data\n",
        "import numpy as np   # For numerical computations\n",
        "from sklearn.metrics.pairwise import cosine_similarity  # For computing item similarity\n",
        "```"
      ]
    },
    {
      "cell_type": "markdown",
      "metadata": {
        "id": "b9oy7pojf19r"
      },
      "source": [
        "#### **Step 2: Compute Item-Item Similarity**\n",
        "- We will use **cosine similarity** to measure how similar each pair of movies is based on their user ratings.\n",
        "- Since `cosine_similarity` does not handle missing values (NaN), replace them with `0` before computation.\n",
        "- Unlike user-based filtering, we need to **transpose** (`.T`) the `user_movie_matrix` because we want similarity between movies (columns) instead of users (rows).\n",
        "\n",
        "##### **Instructions:**\n",
        "1. Transpose the user-movie matrix using `.T` to make movies the rows.\n",
        "2. Fill missing values with `0` using `.fillna(0)`.\n",
        "3. Compute similarity using `cosine_similarity()`.\n",
        "4. Convert the result into a **Pandas DataFrame**, with movies as both row and column labels.\n",
        "\n",
        "##### **Hint:**  \n",
        "You can achieve this using the following approach:\n",
        "\n",
        "```python\n",
        "item_similarity = cosine_similarity(user_movie_matrix.T.fillna(0))\n",
        "item_sim_df = pd.DataFrame(item_similarity, index=user_movie_matrix.columns, columns=user_movie_matrix.columns)\n",
        "```"
      ]
    },
    {
      "cell_type": "markdown",
      "metadata": {
        "id": "L8k80idUgDWW"
      },
      "source": [
        "#### **Step 3: Implement the Recommendation Function**\n",
        "Now, implement the function `recommend_movies(movie_name, num=5)` to recommend movies similar to a given movie.\n",
        "\n",
        "##### **Function Inputs:**\n",
        "- `movie_name`: The target movie for which we need recommendations.\n",
        "- `num`: The number of similar movies to recommend (default is 5).\n",
        "\n",
        "##### **Function Steps:**\n",
        "1. Find the **movie_id** corresponding to the given `movie_name` in the `movies` DataFrame.\n",
        "2. If the movie is not found, return an appropriate message.\n",
        "3. Extract the **similarity scores** for this movie from `item_sim_df`.\n",
        "4. Sort the movies in **descending order** based on similarity (excluding the movie itself).\n",
        "5. Retrieve the **top `num` similar movies**.\n",
        "6. Map **movie IDs** to their **titles** using the `movies` DataFrame.\n",
        "7. Return the results as a **Pandas DataFrame** with rankings."
      ]
    },
    {
      "cell_type": "markdown",
      "metadata": {
        "id": "kNRZQWQkgLPf"
      },
      "source": [
        "#### **Step 4: Return the Final Recommendation List**\n",
        "Your function should return a **DataFrame** structured as follows:\n",
        "\n",
        "| Ranking | Movie Name |\n",
        "|---------|-----------|\n",
        "| 1       | Movie A   |\n",
        "| 2       | Movie B   |\n",
        "| 3       | Movie C   |\n",
        "| 4       | Movie D   |\n",
        "| 5       | Movie E   |\n",
        "\n",
        "##### **Hint:** Your final DataFrame should be created like this:\n",
        "```python\n",
        "result_df = pd.DataFrame({\n",
        "    'ranking': range(1, num+1),\n",
        "    'movie_name': movie_names\n",
        "})\n",
        "result_df.set_index('ranking', inplace=True)\n",
        "```"
      ]
    },
    {
      "cell_type": "markdown",
      "metadata": {
        "id": "h-EEF0Q1gd9N"
      },
      "source": [
        "#### **Example: Item-Based Collaborative Filtering**\n",
        "```python\n",
        "recommend_movies(\"Jurassic Park (1993)\", num=5)\n",
        "```\n",
        "**Output:**\n",
        "```\n",
        "| Ranking | Movie Name                               |\n",
        "|---------|------------------------------------------|\n",
        "| 1       | Top Gun (1986)                           |\n",
        "| 2       | Empire Strikes Back, The (1980)          |\n",
        "| 3       | Raiders of the Lost Ark (1981)           |\n",
        "| 4       | Indiana Jones and the Last Crusade (1989)|\n",
        "| 5       | Speed (1994)                             |\n"
      ]
    },
    {
      "cell_type": "markdown",
      "source": [
        "**Calculate Item-Item Similarity:**\n",
        "The code transposes user_movie_matrix so that movies become rows, and computes cosine similarity between them to get item_sim_df, which stores how similar each pair of movies is based on user ratings.\n",
        "\n",
        "**Find Movie ID from Title:**\n",
        "Given a movie_name, the function looks up its corresponding movie_id in the movies DataFrame.\n",
        "\n",
        "**Handle Missing Movie Names:**\n",
        "The function checks whether the given movie exists in the dataset; if not found, it returns a \"Movie not found\" message (although this check could be improved for robustness—see note below).\n",
        "\n",
        "**Retrieve Similar Movies:**\n",
        "For the identified movie_id, the function gets similarity scores from item_sim_df, sorts them in descending order, and excludes the movie itself from the results.\n",
        "\n",
        "**Select Top-N Similar Movies:**\n",
        "It selects the top num most similar movie IDs, and then maps them to their respective movie titles using the movies DataFrame.\n",
        "\n",
        "**Formatted Output Display:**\n",
        "The recommended movie titles are printed in a neatly formatted table showing ranking and names, providing an easy-to-read list of similar films.\n",
        "\n",
        "**Return Result DataFrame:**\n",
        "A result_df DataFrame containing the ranked recommendations is created, which could be used for further processing or visualization."
      ],
      "metadata": {
        "id": "lhblGgihsF9v"
      }
    },
    {
      "cell_type": "code",
      "execution_count": 173,
      "metadata": {
        "id": "l1K79akTebWa",
        "colab": {
          "base_uri": "https://localhost:8080/"
        },
        "outputId": "83a21864-e8f1-4926-b24a-19721d9a9184"
      },
      "outputs": [
        {
          "output_type": "stream",
          "name": "stdout",
          "text": [
            "| Ranking | Movie Name                                 |\n",
            "|---------|--------------------------------------------|\n",
            "| 1       | Fugitive, The (1993)                       |\n",
            "| 2       | Jurassic Park (1993)                       |\n",
            "| 3       | Terminator 2: Judgment Day (1991)          |\n",
            "| 4       | Top Gun (1986)                             |\n",
            "| 5       | True Lies (1994)                           |\n"
          ]
        }
      ],
      "source": [
        "# Code the function here\n",
        "\n",
        "import pandas as pd\n",
        "import numpy as np\n",
        "from sklearn.metrics.pairwise import cosine_similarity\n",
        "\n",
        "item_similarity = cosine_similarity(user_movie_matrix.T.fillna(0))\n",
        "item_sim_df = pd.DataFrame(item_similarity, index=user_movie_matrix.columns, columns=user_movie_matrix.columns)\n",
        "\n",
        "def recommend_movies(movie_name, num=5):\n",
        "    # Find the movie_id\n",
        "    movie_id = movies[movies['title'] == movie_name]['movie_id'].iloc[0]\n",
        "\n",
        "    # Handle cases where movie name is not found\n",
        "    if movie_id is None:\n",
        "        return \"Movie not found\"\n",
        "\n",
        "    # Extract similarity scores for this movie\n",
        "    similar_movies = item_sim_df[movie_id].sort_values(ascending=False)[1:]  # Exclude the movie itself\n",
        "\n",
        "    # Get top N similar movies\n",
        "    top_n_movie_ids = similar_movies.index[:num]\n",
        "    movie_names = movies[movies['movie_id'].isin(top_n_movie_ids)]['title'].tolist()\n",
        "\n",
        "    print(f\"| {'Ranking':<7} | {'Movie Name':<42} |\")\n",
        "    print(f\"|{'-'*9}|{'-'*44}|\")\n",
        "    for i, name in enumerate(movie_names, 1):\n",
        "        print(f\"| {i:<7} | {name:<42} |\")\n",
        "\n",
        "    # Create the result DataFrame\n",
        "    result_df = pd.DataFrame({\n",
        "        'Ranking': range(1, num + 1),\n",
        "        'Movie Name': movie_names\n",
        "    })\n",
        "\n",
        "# Example usage\n",
        "recommend_movies(\"Speed (1994)\", num=5)\n"
      ]
    },
    {
      "cell_type": "markdown",
      "source": [
        "**The recommendation system effectively identifies movies with similar themes to Speed (1994)**, such as The Fugitive and Jurassic Park, demonstrating its ability to capture user preferences for action and thriller genres.\n",
        "\n",
        "**Inclusion of films like Top Gun and True Lies highlights the model's capacity to recognize patterns in user tastes**, considering both genre and temporal context, which enhances recommendation relevance.\n",
        "\n",
        "**The output is presented in a clear, ranked format that improves readability and user-friendliness**, making it easy for users to interpret and evaluate the suggested movies.\n",
        "\n",
        "**By leveraging cosine similarity, the system delivers accurate and personalized recommendations**; its solid collaborative filtering foundation offers room for future enhancements like content-based features or advanced modeling techniques."
      ],
      "metadata": {
        "id": "De0TB8w3WkMH"
      }
    },
    {
      "cell_type": "markdown",
      "metadata": {
        "id": "YhZXLz7Rh_VC"
      },
      "source": [
        "## **Part 3: Graph-Based Recommender (Pixie-Inspired Algorithm)**"
      ]
    },
    {
      "cell_type": "markdown",
      "metadata": {
        "id": "u_YceL18lWlN"
      },
      "source": [
        "### **Adjacency List**"
      ]
    },
    {
      "cell_type": "markdown",
      "metadata": {
        "id": "CFF1tUDsipIX"
      },
      "source": [
        "#### **Objective**\n",
        "In this task, you will preprocess the Movie dataset and construct a **graph representation** where:\n",
        "- **Users** are connected to the movies they have rated.\n",
        "- **Movies** are connected to users who have rated them.\n",
        "  \n",
        "This graph structure will help in exploring **user-movie relationships** for recommendations."
      ]
    },
    {
      "cell_type": "markdown",
      "metadata": {
        "id": "-3OPInjhkUzy"
      },
      "source": [
        "#### **Step 1: Merge Ratings with Movie Titles**\n",
        "Since we have **movie IDs** in the ratings dataset but need human-readable movie titles, we will:\n",
        "1. Merge the `ratings` DataFrame with the `movies` DataFrame using the `'movie_id'` column.\n",
        "2. This allows each rating to be associated with a **movie title**.\n",
        "\n",
        "#### **Hint:**\n",
        "Use the following Pandas operation to merge:\n",
        "```python\n",
        "ratings = ratings.merge(movies, on='movie_id')\n",
        "```"
      ]
    },
    {
      "cell_type": "markdown",
      "metadata": {
        "id": "3OPUXyNVkfHr"
      },
      "source": [
        "\n",
        "#### **Step 2: Aggregate Ratings**\n",
        "Since multiple users may rate the same movie multiple times, we:\n",
        "1. Group the dataset by `['user_id', 'movie_id', 'title']`.\n",
        "2. Compute the **mean rating** for each movie by each user.\n",
        "3. Reset the index to ensure we maintain a clean DataFrame structure.\n",
        "\n",
        "#### **Hint:**  \n",
        "Use `groupby()` and `mean()` as follows:\n",
        "```python\n",
        "ratings = ratings.groupby(['user_id', 'movie_id', 'title'])['rating'].mean().reset_index()\n",
        "```"
      ]
    },
    {
      "cell_type": "markdown",
      "metadata": {
        "id": "NU1fB66WkqEO"
      },
      "source": [
        "#### **Step 3: Normalize Ratings**\n",
        "Since different users have different rating biases, we normalize ratings by:\n",
        "1. **Computing each user's mean rating**.\n",
        "2. **Subtracting the mean rating** from each individual rating.\n",
        "\n",
        "#### **Instructions:**\n",
        "- Use `groupby('user_id')` to group ratings by users.\n",
        "- Apply `transform(lambda x: x - x.mean())` to adjust ratings.\n",
        "\n",
        "#### **Hint:**  \n",
        "Normalize ratings using:\n",
        "```python\n",
        "ratings['rating'] = ratings.groupby('user_id')['rating'].transform(lambda x: x - x.mean())\n",
        "```\n",
        "This ensures each user’s ratings are centered around zero, making similarity calculations fairer."
      ]
    },
    {
      "cell_type": "markdown",
      "metadata": {
        "id": "79NB8zIWkvWP"
      },
      "source": [
        "#### **Step 4: Construct the Graph Representation**\n",
        "We represent the user-movie interactions as an **undirected graph** using an **adjacency list**:\n",
        "- Each **user** is a node connected to movies they rated.\n",
        "- Each **movie** is a node connected to users who rated it.\n",
        "\n",
        "#### **Graph Construction Steps:**\n",
        "1. Initialize an empty dictionary `graph = {}`.\n",
        "2. Iterate through the **ratings dataset**.\n",
        "3. For each `user_id` and `movie_id` pair:\n",
        "   - Add the movie to the user’s set of connections.\n",
        "   - Add the user to the movie’s set of connections.\n",
        "\n",
        "#### **Hint:**  \n",
        "The following code builds the graph:\n",
        "\n",
        "```python\n",
        "graph = {}\n",
        "for _, row in ratings.iterrows():\n",
        "    user, movie = row['user_id'], row['movie_id']\n",
        "    if user not in graph:\n",
        "        graph[user] = set()\n",
        "    if movie not in graph:\n",
        "        graph[movie] = set()\n",
        "    graph[user].add(movie)\n",
        "    graph[movie].add(user)\n",
        "```\n",
        "\n",
        "This results in a **bipartite graph**, where:\n",
        "- **Users** are connected to multiple movies.\n",
        "- **Movies** are connected to multiple users."
      ]
    },
    {
      "cell_type": "markdown",
      "metadata": {
        "id": "wEuVgjAAk4KV"
      },
      "source": [
        "#### **Step 5: Understanding the Graph**\n",
        "- **Nodes** in the graph represent **users and movies**.\n",
        "- **Edges** exist between a user and a movie **if the user has rated the movie**.\n",
        "- This structure allows us to find **users with similar movie tastes** and **movies frequently watched together**.\n",
        "\n",
        "#### **Exploring the Graph**\n",
        "- **Find a user’s rated movies:**  \n",
        "  ```python\n",
        "  user_id = 1\n",
        "  print(graph[user_id])  # Movies rated by user 1\n",
        "  ```\n",
        "\n",
        "- **Find users who rated a movie:**  \n",
        "  ```python\n",
        "  movie_id = 50\n",
        "  print(graph[movie_id])  # Users who rated movie 50\n",
        "  ```"
      ]
    },
    {
      "cell_type": "markdown",
      "source": [
        "**Merge and Preprocess Ratings:** The ratings DataFrame is merged with the movies DataFrame to add movie titles using movie_id. Then it averages duplicate user-movie ratings and normalizes each user's ratings by subtracting their mean rating (centering)."
      ],
      "metadata": {
        "id": "ttNFnP6TtOMo"
      }
    },
    {
      "cell_type": "code",
      "execution_count": 174,
      "metadata": {
        "id": "b4V2aL4DiMM4"
      },
      "outputs": [],
      "source": [
        "ratings = ratings.merge(movies[['movie_id', 'title']], on='movie_id')\n"
      ]
    },
    {
      "cell_type": "code",
      "source": [
        "ratings = ratings.groupby(['user_id', 'movie_id', 'title'])['rating'].mean().reset_index()"
      ],
      "metadata": {
        "id": "1NICWFGjF5Bh"
      },
      "execution_count": 175,
      "outputs": []
    },
    {
      "cell_type": "code",
      "source": [
        "# Normalize Ratings\n",
        "ratings['rating'] = ratings.groupby('user_id')['rating'].transform(lambda x: x - x.mean())"
      ],
      "metadata": {
        "id": "Ey-ZXCeWAkYn"
      },
      "execution_count": 176,
      "outputs": []
    },
    {
      "cell_type": "markdown",
      "source": [
        "**Build Bipartite Graph:** A bipartite graph graph is constructed where users are connected to the movies they've rated, and movies (represented as (movie_id, title) tuples) are connected back to the users who rated them."
      ],
      "metadata": {
        "id": "nKLicpzJtYo2"
      }
    },
    {
      "cell_type": "code",
      "source": [
        "graph = {}\n",
        "for _, row in ratings.iterrows():\n",
        "    user, movie_id, movie_title = row['user_id'], row['movie_id'], row['title']\n",
        "    movie = (movie_id, movie_title) # Create a tuple to represent a movie using both movie_id and title\n",
        "\n",
        "    if user not in graph:\n",
        "        graph[user] = set()\n",
        "\n",
        "    if movie not in graph:\n",
        "        graph[movie] = set()\n",
        "\n",
        "    graph[user].add((movie_id, movie_title))\n",
        "    graph[movie].add(user)"
      ],
      "metadata": {
        "id": "pBHqyCcwCoTA"
      },
      "execution_count": 177,
      "outputs": []
    },
    {
      "cell_type": "markdown",
      "source": [
        "**Inspect User's Rated Movies:** The graph is queried to print a sorted list of all movies rated by user_id = 1."
      ],
      "metadata": {
        "id": "3kH2nCA-tbmZ"
      }
    },
    {
      "cell_type": "code",
      "source": [
        "user_id = 1\n",
        "print(sorted(graph[user_id]))  # Movies rated by user 1\n"
      ],
      "metadata": {
        "colab": {
          "base_uri": "https://localhost:8080/"
        },
        "id": "6YjgyyjEC3wp",
        "outputId": "27627507-82b6-4383-d2b8-61b4b5f19acf"
      },
      "execution_count": 178,
      "outputs": [
        {
          "output_type": "stream",
          "name": "stdout",
          "text": [
            "[(1, 'Toy Story (1995)'), (2, 'GoldenEye (1995)'), (3, 'Four Rooms (1995)'), (4, 'Get Shorty (1995)'), (5, 'Copycat (1995)'), (6, 'Shanghai Triad (Yao a yao yao dao waipo qiao) (1995)'), (7, 'Twelve Monkeys (1995)'), (8, 'Babe (1995)'), (9, 'Dead Man Walking (1995)'), (10, 'Richard III (1995)'), (11, 'Seven (Se7en) (1995)'), (12, 'Usual Suspects, The (1995)'), (13, 'Mighty Aphrodite (1995)'), (14, 'Postino, Il (1994)'), (15, \"Mr. Holland's Opus (1995)\"), (16, 'French Twist (Gazon maudit) (1995)'), (17, 'From Dusk Till Dawn (1996)'), (18, 'White Balloon, The (1995)'), (19, \"Antonia's Line (1995)\"), (20, 'Angels and Insects (1995)'), (21, 'Muppet Treasure Island (1996)'), (22, 'Braveheart (1995)'), (23, 'Taxi Driver (1976)'), (24, 'Rumble in the Bronx (1995)'), (25, 'Birdcage, The (1996)'), (26, 'Brothers McMullen, The (1995)'), (27, 'Bad Boys (1995)'), (28, 'Apollo 13 (1995)'), (29, 'Batman Forever (1995)'), (30, 'Belle de jour (1967)'), (31, 'Crimson Tide (1995)'), (32, 'Crumb (1994)'), (33, 'Desperado (1995)'), (34, 'Doom Generation, The (1995)'), (35, 'Free Willy 2: The Adventure Home (1995)'), (36, 'Mad Love (1995)'), (37, 'Nadja (1994)'), (38, 'Net, The (1995)'), (39, 'Strange Days (1995)'), (40, 'To Wong Foo, Thanks for Everything! Julie Newmar (1995)'), (41, 'Billy Madison (1995)'), (42, 'Clerks (1994)'), (43, 'Disclosure (1994)'), (44, 'Dolores Claiborne (1994)'), (45, 'Eat Drink Man Woman (1994)'), (46, 'Exotica (1994)'), (47, 'Ed Wood (1994)'), (48, 'Hoop Dreams (1994)'), (49, 'I.Q. (1994)'), (50, 'Star Wars (1977)'), (51, 'Legends of the Fall (1994)'), (52, 'Madness of King George, The (1994)'), (53, 'Natural Born Killers (1994)'), (54, 'Outbreak (1995)'), (55, 'Professional, The (1994)'), (56, 'Pulp Fiction (1994)'), (57, 'Priest (1994)'), (58, 'Quiz Show (1994)'), (59, 'Three Colors: Red (1994)'), (60, 'Three Colors: Blue (1993)'), (61, 'Three Colors: White (1994)'), (62, 'Stargate (1994)'), (63, 'Santa Clause, The (1994)'), (64, 'Shawshank Redemption, The (1994)'), (65, \"What's Eating Gilbert Grape (1993)\"), (66, 'While You Were Sleeping (1995)'), (67, 'Ace Ventura: Pet Detective (1994)'), (68, 'Crow, The (1994)'), (69, 'Forrest Gump (1994)'), (70, 'Four Weddings and a Funeral (1994)'), (71, 'Lion King, The (1994)'), (72, 'Mask, The (1994)'), (73, 'Maverick (1994)'), (74, 'Faster Pussycat! Kill! Kill! (1965)'), (75, 'Brother Minister: The Assassination of Malcolm X (1994)'), (76, \"Carlito's Way (1993)\"), (77, 'Firm, The (1993)'), (78, 'Free Willy (1993)'), (79, 'Fugitive, The (1993)'), (80, 'Hot Shots! Part Deux (1993)'), (81, 'Hudsucker Proxy, The (1994)'), (82, 'Jurassic Park (1993)'), (83, 'Much Ado About Nothing (1993)'), (84, \"Robert A. Heinlein's The Puppet Masters (1994)\"), (85, 'Ref, The (1994)'), (86, 'Remains of the Day, The (1993)'), (87, 'Searching for Bobby Fischer (1993)'), (88, 'Sleepless in Seattle (1993)'), (89, 'Blade Runner (1982)'), (90, 'So I Married an Axe Murderer (1993)'), (91, 'Nightmare Before Christmas, The (1993)'), (92, 'True Romance (1993)'), (93, 'Welcome to the Dollhouse (1995)'), (94, 'Home Alone (1990)'), (95, 'Aladdin (1992)'), (96, 'Terminator 2: Judgment Day (1991)'), (97, 'Dances with Wolves (1990)'), (98, 'Silence of the Lambs, The (1991)'), (99, 'Snow White and the Seven Dwarfs (1937)'), (100, 'Fargo (1996)'), (101, 'Heavy Metal (1981)'), (102, 'Aristocats, The (1970)'), (103, 'All Dogs Go to Heaven 2 (1996)'), (104, 'Theodore Rex (1995)'), (105, 'Sgt. Bilko (1996)'), (106, 'Diabolique (1996)'), (107, 'Moll Flanders (1996)'), (108, 'Kids in the Hall: Brain Candy (1996)'), (109, 'Mystery Science Theater 3000: The Movie (1996)'), (110, 'Operation Dumbo Drop (1995)'), (111, 'Truth About Cats & Dogs, The (1996)'), (112, 'Flipper (1996)'), (113, 'Horseman on the Roof, The (Hussard sur le toit, Le) (1995)'), (114, 'Wallace & Gromit: The Best of Aardman Animation (1996)'), (115, 'Haunted World of Edward D. Wood Jr., The (1995)'), (116, 'Cold Comfort Farm (1995)'), (117, 'Rock, The (1996)'), (118, 'Twister (1996)'), (119, 'Maya Lin: A Strong Clear Vision (1994)'), (120, 'Striptease (1996)'), (121, 'Independence Day (ID4) (1996)'), (122, 'Cable Guy, The (1996)'), (123, 'Frighteners, The (1996)'), (124, 'Lone Star (1996)'), (125, 'Phenomenon (1996)'), (126, 'Spitfire Grill, The (1996)'), (127, 'Godfather, The (1972)'), (128, 'Supercop (1992)'), (129, 'Bound (1996)'), (130, 'Kansas City (1996)'), (131, \"Breakfast at Tiffany's (1961)\"), (132, 'Wizard of Oz, The (1939)'), (133, 'Gone with the Wind (1939)'), (134, 'Citizen Kane (1941)'), (135, '2001: A Space Odyssey (1968)'), (136, 'Mr. Smith Goes to Washington (1939)'), (137, 'Big Night (1996)'), (138, 'D3: The Mighty Ducks (1996)'), (139, 'Love Bug, The (1969)'), (140, 'Homeward Bound: The Incredible Journey (1993)'), (141, '20,000 Leagues Under the Sea (1954)'), (142, 'Bedknobs and Broomsticks (1971)'), (143, 'Sound of Music, The (1965)'), (144, 'Die Hard (1988)'), (145, 'Lawnmower Man, The (1992)'), (146, 'Unhook the Stars (1996)'), (147, 'Long Kiss Goodnight, The (1996)'), (148, 'Ghost and the Darkness, The (1996)'), (149, 'Jude (1996)'), (150, 'Swingers (1996)'), (151, 'Willy Wonka and the Chocolate Factory (1971)'), (152, 'Sleeper (1973)'), (153, 'Fish Called Wanda, A (1988)'), (154, \"Monty Python's Life of Brian (1979)\"), (155, 'Dirty Dancing (1987)'), (156, 'Reservoir Dogs (1992)'), (157, 'Platoon (1986)'), (158, \"Weekend at Bernie's (1989)\"), (159, 'Basic Instinct (1992)'), (160, 'Glengarry Glen Ross (1992)'), (161, 'Top Gun (1986)'), (162, 'On Golden Pond (1981)'), (163, 'Return of the Pink Panther, The (1974)'), (164, 'Abyss, The (1989)'), (165, 'Jean de Florette (1986)'), (166, 'Manon of the Spring (Manon des sources) (1986)'), (167, 'Private Benjamin (1980)'), (168, 'Monty Python and the Holy Grail (1974)'), (169, 'Wrong Trousers, The (1993)'), (170, 'Cinema Paradiso (1988)'), (171, 'Delicatessen (1991)'), (172, 'Empire Strikes Back, The (1980)'), (173, 'Princess Bride, The (1987)'), (174, 'Raiders of the Lost Ark (1981)'), (175, 'Brazil (1985)'), (176, 'Aliens (1986)'), (177, 'Good, The Bad and The Ugly, The (1966)'), (178, '12 Angry Men (1957)'), (179, 'Clockwork Orange, A (1971)'), (180, 'Apocalypse Now (1979)'), (181, 'Return of the Jedi (1983)'), (182, 'GoodFellas (1990)'), (183, 'Alien (1979)'), (184, 'Army of Darkness (1993)'), (185, 'Psycho (1960)'), (186, 'Blues Brothers, The (1980)'), (187, 'Godfather: Part II, The (1974)'), (188, 'Full Metal Jacket (1987)'), (189, 'Grand Day Out, A (1992)'), (190, 'Henry V (1989)'), (191, 'Amadeus (1984)'), (192, 'Raging Bull (1980)'), (193, 'Right Stuff, The (1983)'), (194, 'Sting, The (1973)'), (195, 'Terminator, The (1984)'), (196, 'Dead Poets Society (1989)'), (197, 'Graduate, The (1967)'), (198, 'Nikita (La Femme Nikita) (1990)'), (199, 'Bridge on the River Kwai, The (1957)'), (200, 'Shining, The (1980)'), (201, 'Evil Dead II (1987)'), (202, 'Groundhog Day (1993)'), (203, 'Unforgiven (1992)'), (204, 'Back to the Future (1985)'), (205, 'Patton (1970)'), (206, 'Akira (1988)'), (207, 'Cyrano de Bergerac (1990)'), (208, 'Young Frankenstein (1974)'), (209, 'This Is Spinal Tap (1984)'), (210, 'Indiana Jones and the Last Crusade (1989)'), (211, 'M*A*S*H (1970)'), (212, 'Unbearable Lightness of Being, The (1988)'), (213, 'Room with a View, A (1986)'), (214, 'Pink Floyd - The Wall (1982)'), (215, 'Field of Dreams (1989)'), (216, 'When Harry Met Sally... (1989)'), (217, \"Bram Stoker's Dracula (1992)\"), (218, 'Cape Fear (1991)'), (219, 'Nightmare on Elm Street, A (1984)'), (220, 'Mirror Has Two Faces, The (1996)'), (221, 'Breaking the Waves (1996)'), (222, 'Star Trek: First Contact (1996)'), (223, 'Sling Blade (1996)'), (224, 'Ridicule (1996)'), (225, '101 Dalmatians (1996)'), (226, 'Die Hard 2 (1990)'), (227, 'Star Trek VI: The Undiscovered Country (1991)'), (228, 'Star Trek: The Wrath of Khan (1982)'), (229, 'Star Trek III: The Search for Spock (1984)'), (230, 'Star Trek IV: The Voyage Home (1986)'), (231, 'Batman Returns (1992)'), (232, 'Young Guns (1988)'), (233, 'Under Siege (1992)'), (234, 'Jaws (1975)'), (235, 'Mars Attacks! (1996)'), (236, 'Citizen Ruth (1996)'), (237, 'Jerry Maguire (1996)'), (238, 'Raising Arizona (1987)'), (239, 'Sneakers (1992)'), (240, 'Beavis and Butt-head Do America (1996)'), (241, 'Last of the Mohicans, The (1992)'), (242, 'Kolya (1996)'), (243, 'Jungle2Jungle (1997)'), (244, \"Smilla's Sense of Snow (1997)\"), (245, \"Devil's Own, The (1997)\"), (246, 'Chasing Amy (1997)'), (247, 'Turbo: A Power Rangers Movie (1997)'), (248, 'Grosse Pointe Blank (1997)'), (249, 'Austin Powers: International Man of Mystery (1997)'), (250, 'Fifth Element, The (1997)'), (251, 'Shall We Dance? (1996)'), (252, 'Lost World: Jurassic Park, The (1997)'), (253, 'Pillow Book, The (1995)'), (254, 'Batman & Robin (1997)'), (255, \"My Best Friend's Wedding (1997)\"), (256, 'When the Cats Away (Chacun cherche son chat) (1996)'), (257, 'Men in Black (1997)'), (258, 'Contact (1997)'), (259, 'George of the Jungle (1997)'), (260, 'Event Horizon (1997)'), (261, 'Air Bud (1997)'), (262, 'In the Company of Men (1997)'), (263, 'Steel (1997)'), (264, 'Mimic (1997)'), (265, 'Hunt for Red October, The (1990)'), (266, 'Kull the Conqueror (1997)'), (267, 'unknown'), (268, 'Chasing Amy (1997)'), (269, 'Full Monty, The (1997)'), (270, 'Gattaca (1997)'), (271, 'Starship Troopers (1997)'), (272, 'Good Will Hunting (1997)')]\n"
          ]
        }
      ]
    },
    {
      "cell_type": "markdown",
      "source": [
        "**Find Users for a Specific Movie:** The code identifies the tuple for movie_id = 50, finds all users who rated that movie via the graph, prints their IDs, and counts them."
      ],
      "metadata": {
        "id": "1ZYlgT2Ltgk2"
      }
    },
    {
      "cell_type": "code",
      "source": [
        "movie_to_find = (50, movies[movies['movie_id'] == 50]['title'].iloc[0])\n",
        "users_who_rated_this_movie = graph.get(movie_to_find, set())\n",
        "print(users_who_rated_this_movie)\n",
        "print(len(users_who_rated_this_movie)) # No of users who rated this move_id"
      ],
      "metadata": {
        "colab": {
          "base_uri": "https://localhost:8080/"
        },
        "id": "Uan6LikDI75B",
        "outputId": "7e51ad20-5d09-4f30-e827-0f17fef814ec"
      },
      "execution_count": 179,
      "outputs": [
        {
          "output_type": "stream",
          "name": "stdout",
          "text": [
            "{1, 2, 4, 5, 6, 7, 8, 9, 10, 12, 13, 14, 15, 18, 20, 21, 22, 23, 25, 26, 27, 28, 30, 32, 37, 41, 42, 43, 44, 45, 46, 48, 49, 51, 53, 54, 55, 56, 57, 58, 59, 60, 62, 63, 64, 65, 66, 68, 69, 70, 71, 72, 77, 79, 80, 82, 83, 85, 87, 89, 91, 92, 94, 95, 96, 97, 99, 101, 102, 103, 104, 108, 109, 113, 115, 116, 117, 119, 120, 121, 123, 124, 125, 127, 128, 130, 132, 137, 141, 144, 145, 148, 150, 151, 153, 154, 157, 158, 160, 161, 162, 169, 174, 175, 176, 177, 178, 182, 183, 184, 185, 188, 189, 192, 194, 197, 198, 200, 201, 203, 209, 210, 213, 214, 215, 216, 217, 221, 222, 227, 230, 231, 232, 233, 234, 235, 236, 239, 244, 245, 246, 247, 248, 249, 250, 251, 253, 254, 256, 257, 262, 263, 265, 267, 268, 269, 270, 271, 272, 274, 275, 276, 277, 279, 280, 283, 286, 287, 288, 290, 291, 292, 293, 294, 295, 296, 297, 298, 299, 301, 303, 305, 307, 308, 310, 311, 312, 313, 316, 318, 320, 321, 322, 323, 324, 325, 326, 327, 328, 329, 330, 332, 334, 336, 337, 339, 340, 343, 344, 345, 346, 347, 350, 352, 354, 359, 360, 361, 363, 367, 368, 369, 370, 371, 373, 374, 378, 379, 380, 381, 382, 385, 386, 387, 389, 391, 392, 393, 394, 395, 397, 398, 399, 401, 402, 403, 405, 406, 407, 409, 411, 413, 416, 417, 419, 421, 422, 424, 425, 426, 429, 430, 432, 433, 435, 436, 437, 438, 444, 445, 447, 450, 452, 453, 454, 455, 456, 457, 458, 459, 461, 463, 464, 465, 466, 467, 468, 470, 471, 472, 474, 475, 478, 479, 480, 481, 482, 483, 484, 486, 487, 488, 490, 493, 494, 495, 496, 497, 498, 499, 500, 503, 504, 505, 506, 507, 508, 509, 512, 513, 514, 516, 517, 521, 523, 524, 526, 527, 528, 530, 533, 535, 536, 537, 538, 539, 540, 541, 542, 545, 546, 548, 549, 550, 551, 552, 553, 554, 555, 557, 560, 561, 562, 563, 564, 566, 567, 569, 573, 575, 576, 577, 579, 580, 581, 582, 584, 586, 588, 592, 593, 594, 595, 596, 597, 600, 601, 602, 603, 606, 608, 610, 613, 618, 619, 620, 621, 622, 623, 624, 625, 629, 630, 632, 633, 634, 637, 638, 641, 642, 643, 644, 645, 648, 649, 650, 653, 654, 655, 658, 659, 660, 661, 662, 663, 664, 665, 666, 668, 669, 671, 672, 674, 676, 678, 679, 680, 682, 684, 686, 689, 691, 693, 694, 697, 698, 699, 700, 701, 703, 704, 705, 706, 708, 709, 710, 711, 712, 714, 715, 716, 717, 719, 721, 723, 727, 730, 734, 735, 736, 738, 739, 741, 742, 744, 745, 746, 747, 748, 749, 751, 753, 756, 757, 758, 759, 760, 761, 763, 764, 765, 766, 768, 770, 771, 773, 774, 776, 779, 780, 781, 782, 785, 786, 789, 790, 791, 793, 794, 795, 796, 797, 798, 799, 800, 804, 805, 806, 807, 815, 823, 825, 826, 830, 831, 832, 833, 834, 835, 838, 839, 840, 843, 844, 846, 847, 848, 850, 851, 852, 854, 862, 864, 867, 868, 869, 870, 871, 875, 878, 879, 880, 881, 882, 883, 885, 886, 887, 889, 890, 891, 892, 893, 894, 895, 896, 897, 899, 901, 902, 903, 907, 908, 910, 913, 916, 917, 919, 921, 922, 923, 924, 929, 930, 931, 933, 934, 936, 937, 938, 940, 942, 943}\n",
            "583\n"
          ]
        }
      ]
    },
    {
      "cell_type": "markdown",
      "metadata": {
        "id": "_ZE31gB7lImI"
      },
      "source": [
        "### **Implement Weighted Random Walks**"
      ]
    },
    {
      "cell_type": "markdown",
      "metadata": {
        "id": "yHe42rlJl9kD"
      },
      "source": [
        "#### **Random Walk-Based Movie Recommendation System (Weighted Pixie)**"
      ]
    },
    {
      "cell_type": "markdown",
      "metadata": {
        "id": "jyqptwreo-IP"
      },
      "source": [
        "#### **Objective**\n",
        "In this task, you will implement a **random-walk-based recommendation algorithm** using the **Weighted Pixie** method. This technique uses a **user-movie bipartite graph** to recommend movies by simulating a random walk from a given user or movie."
      ]
    },
    {
      "cell_type": "markdown",
      "metadata": {
        "id": "jFgyzzdCpfzu"
      },
      "source": [
        "#### **Step 1: Import Required Libraries**\n",
        "Make sure you have the necessary libraries:\n",
        "\n",
        "```python\n",
        "import random  # For random walks\n",
        "import pandas as pd  # For handling data\n",
        "```"
      ]
    },
    {
      "cell_type": "markdown",
      "metadata": {
        "id": "_FVGjhl0ppFK"
      },
      "source": [
        "#### **Step 2: Implement the Random Walk Algorithm**\n",
        "Your task is to **simulate a random walk** from a given starting point in the **bipartite user-movie graph**.\n",
        "\n",
        "##### **Hints for Implementation**\n",
        "- Start from **either a user or a movie**.\n",
        "- At each step, **randomly move** to a connected node.\n",
        "- Keep track of **how many times each movie is visited**.\n",
        "- After completing the walk, **rank movies by visit count**."
      ]
    },
    {
      "cell_type": "markdown",
      "metadata": {
        "id": "E7D7Pj6trss9"
      },
      "source": [
        "#### **Step 3: Implement User-Based Recommendation**\n",
        "**Hints:**\n",
        "- Check if the `user_id` exists in the `graph`.\n",
        "- Start a loop that runs for `walk_length` steps.\n",
        "- Randomly pick a **connected node** (user or movie).\n",
        "- Track how many times each **movie** is visited.\n",
        "- Sort movies by visit frequency and return the **top N**.\n",
        "\n",
        "#### **Step 4: Implement Movie-Based Recommendation**\n",
        "**Hints:**\n",
        "- Find the `movie_id` corresponding to the given `movie_name`.\n",
        "- Ensure the movie exists in the `graph`.\n",
        "- Start a random walk from that movie.\n",
        "- Follow the same **tracking and ranking** process as the user-based version.\n",
        "\n",
        "**Note:**  \n",
        "**Your task:** Implement a function `weighted_pixie_recommend(user_id, walk_length=15, num=5)` or `weighted_pixie_recommend(movie_name, walk_length=15, num=5)`.  \n",
        "**Implement either Step 3 or Step 4.**"
      ]
    },
    {
      "cell_type": "markdown",
      "metadata": {
        "id": "qxN_ibCCrCpx"
      },
      "source": [
        "#### **Step 5: Running Your Recommendation System**\n",
        "Once your function is implemented, test it by calling:\n",
        "\n",
        "##### **Example: User-Based Recommendation**\n",
        "```python\n",
        "weighted_pixie_recommend(1, walk_length=15, num=5)\n",
        "```\n",
        "| Ranking | Movie Name                     |\n",
        "|---------|--------------------------------|\n",
        "| 1       | My Own Private Idaho (1991)   |\n",
        "| 2       | Aladdin (1992)                |\n",
        "| 3       | 12 Angry Men (1957)           |\n",
        "| 4       | Happy Gilmore (1996)          |\n",
        "| 5       | Copycat (1995)                |\n",
        "\n",
        "\n",
        "##### **Example: Movie-Based Recommendation**\n",
        "```python\n",
        "weighted_pixie_recommend(\"Jurassic Park (1993)\", walk_length=10, num=5)\n",
        "```\n",
        "| Ranking | Movie Name                           |\n",
        "|---------|-------------------------------------|\n",
        "| 1       | Rear Window (1954)                 |\n",
        "| 2       | Great Dictator, The (1940)         |\n",
        "| 3       | Field of Dreams (1989)             |\n",
        "| 4       | Casablanca (1942)                  |\n",
        "| 5       | Nightmare Before Christmas, The (1993) |\n"
      ]
    },
    {
      "cell_type": "markdown",
      "metadata": {
        "id": "ZpUH9IzVr5aQ"
      },
      "source": [
        "#### **Step 6: Understanding the Results**\n",
        "Your function should return a **DataFrame** structured as follows:\n",
        "\n",
        "| Ranking | Movie Name |\n",
        "|---------|-----------|\n",
        "| 1       | Movie A   |\n",
        "| 2       | Movie B   |\n",
        "| 3       | Movie C   |\n",
        "| 4       | Movie D   |\n",
        "| 5       | Movie E   |\n",
        "\n",
        "Each movie is ranked based on **how frequently it was visited** during the walk.\n",
        "\n",
        "#### **Experiment with Different Parameters**\n",
        "- Try different **`walk_length`** values and observe how it changes recommendations.\n",
        "- Adjust the number of recommended movies (`num`)."
      ]
    },
    {
      "cell_type": "markdown",
      "source": [
        "**Input & Movie Lookup:** Given a movie_name, the function retrieves its corresponding movie_id from the movies DataFrame. If the movie isn’t found in the graph, it returns an error message.\n",
        "\n",
        "**Initialization for Random Walk:** It creates a movie node tuple (movie_id, movie_name) as the starting point for the walk and sets up a dictionary movie_visits to track how often other movies are visited during the walk.\n",
        "\n",
        "**Random Walk Traversal:** The function performs a random walk of walk_length steps through the bipartite user-movie graph. At each step, it randomly selects a neighbor (user or movie), updating the visit count for movie nodes (excluding the starting movie).\n",
        "\n",
        "**Handling of Neighbors and Nodes:** If a step lands on a user, the next random step may land on another movie they rated. Movies are identified by checking if the node is a tuple, and only those (excluding the starting node) are recorded in the movie_visits dictionary.\n",
        "\n",
        "**Ranking and Selection:** After the walk, it sorts the movies based on visit frequency (i.e., how often they were landed on during the walk) in descending order and selects the top num recommended movies.\n",
        "\n",
        "**Output Formatting:** The top recommended movies are returned as a nicely formatted pandas DataFrame showing rankings and movie names, making the recommendations easy to read and interpret."
      ],
      "metadata": {
        "id": "qFiJglfYwQev"
      }
    },
    {
      "cell_type": "code",
      "execution_count": 180,
      "metadata": {
        "id": "tZD5fjG-lx3b",
        "colab": {
          "base_uri": "https://localhost:8080/",
          "height": 238
        },
        "outputId": "fcea8719-6299-4fce-e955-56695b758063"
      },
      "outputs": [
        {
          "output_type": "execute_result",
          "data": {
            "text/plain": [
              "                            Movie Name\n",
              "Ranking                               \n",
              "1        Miracle on 34th Street (1994)\n",
              "2         Bullets Over Broadway (1994)\n",
              "3                        Clerks (1994)\n",
              "4                        Aliens (1986)\n",
              "5            Back to the Future (1985)"
            ],
            "text/html": [
              "\n",
              "  <div id=\"df-10474685-648b-4880-9366-9a42e04916ab\" class=\"colab-df-container\">\n",
              "    <div>\n",
              "<style scoped>\n",
              "    .dataframe tbody tr th:only-of-type {\n",
              "        vertical-align: middle;\n",
              "    }\n",
              "\n",
              "    .dataframe tbody tr th {\n",
              "        vertical-align: top;\n",
              "    }\n",
              "\n",
              "    .dataframe thead th {\n",
              "        text-align: right;\n",
              "    }\n",
              "</style>\n",
              "<table border=\"1\" class=\"dataframe\">\n",
              "  <thead>\n",
              "    <tr style=\"text-align: right;\">\n",
              "      <th></th>\n",
              "      <th>Movie Name</th>\n",
              "    </tr>\n",
              "    <tr>\n",
              "      <th>Ranking</th>\n",
              "      <th></th>\n",
              "    </tr>\n",
              "  </thead>\n",
              "  <tbody>\n",
              "    <tr>\n",
              "      <th>1</th>\n",
              "      <td>Miracle on 34th Street (1994)</td>\n",
              "    </tr>\n",
              "    <tr>\n",
              "      <th>2</th>\n",
              "      <td>Bullets Over Broadway (1994)</td>\n",
              "    </tr>\n",
              "    <tr>\n",
              "      <th>3</th>\n",
              "      <td>Clerks (1994)</td>\n",
              "    </tr>\n",
              "    <tr>\n",
              "      <th>4</th>\n",
              "      <td>Aliens (1986)</td>\n",
              "    </tr>\n",
              "    <tr>\n",
              "      <th>5</th>\n",
              "      <td>Back to the Future (1985)</td>\n",
              "    </tr>\n",
              "  </tbody>\n",
              "</table>\n",
              "</div>\n",
              "    <div class=\"colab-df-buttons\">\n",
              "\n",
              "  <div class=\"colab-df-container\">\n",
              "    <button class=\"colab-df-convert\" onclick=\"convertToInteractive('df-10474685-648b-4880-9366-9a42e04916ab')\"\n",
              "            title=\"Convert this dataframe to an interactive table.\"\n",
              "            style=\"display:none;\">\n",
              "\n",
              "  <svg xmlns=\"http://www.w3.org/2000/svg\" height=\"24px\" viewBox=\"0 -960 960 960\">\n",
              "    <path d=\"M120-120v-720h720v720H120Zm60-500h600v-160H180v160Zm220 220h160v-160H400v160Zm0 220h160v-160H400v160ZM180-400h160v-160H180v160Zm440 0h160v-160H620v160ZM180-180h160v-160H180v160Zm440 0h160v-160H620v160Z\"/>\n",
              "  </svg>\n",
              "    </button>\n",
              "\n",
              "  <style>\n",
              "    .colab-df-container {\n",
              "      display:flex;\n",
              "      gap: 12px;\n",
              "    }\n",
              "\n",
              "    .colab-df-convert {\n",
              "      background-color: #E8F0FE;\n",
              "      border: none;\n",
              "      border-radius: 50%;\n",
              "      cursor: pointer;\n",
              "      display: none;\n",
              "      fill: #1967D2;\n",
              "      height: 32px;\n",
              "      padding: 0 0 0 0;\n",
              "      width: 32px;\n",
              "    }\n",
              "\n",
              "    .colab-df-convert:hover {\n",
              "      background-color: #E2EBFA;\n",
              "      box-shadow: 0px 1px 2px rgba(60, 64, 67, 0.3), 0px 1px 3px 1px rgba(60, 64, 67, 0.15);\n",
              "      fill: #174EA6;\n",
              "    }\n",
              "\n",
              "    .colab-df-buttons div {\n",
              "      margin-bottom: 4px;\n",
              "    }\n",
              "\n",
              "    [theme=dark] .colab-df-convert {\n",
              "      background-color: #3B4455;\n",
              "      fill: #D2E3FC;\n",
              "    }\n",
              "\n",
              "    [theme=dark] .colab-df-convert:hover {\n",
              "      background-color: #434B5C;\n",
              "      box-shadow: 0px 1px 3px 1px rgba(0, 0, 0, 0.15);\n",
              "      filter: drop-shadow(0px 1px 2px rgba(0, 0, 0, 0.3));\n",
              "      fill: #FFFFFF;\n",
              "    }\n",
              "  </style>\n",
              "\n",
              "    <script>\n",
              "      const buttonEl =\n",
              "        document.querySelector('#df-10474685-648b-4880-9366-9a42e04916ab button.colab-df-convert');\n",
              "      buttonEl.style.display =\n",
              "        google.colab.kernel.accessAllowed ? 'block' : 'none';\n",
              "\n",
              "      async function convertToInteractive(key) {\n",
              "        const element = document.querySelector('#df-10474685-648b-4880-9366-9a42e04916ab');\n",
              "        const dataTable =\n",
              "          await google.colab.kernel.invokeFunction('convertToInteractive',\n",
              "                                                    [key], {});\n",
              "        if (!dataTable) return;\n",
              "\n",
              "        const docLinkHtml = 'Like what you see? Visit the ' +\n",
              "          '<a target=\"_blank\" href=https://colab.research.google.com/notebooks/data_table.ipynb>data table notebook</a>'\n",
              "          + ' to learn more about interactive tables.';\n",
              "        element.innerHTML = '';\n",
              "        dataTable['output_type'] = 'display_data';\n",
              "        await google.colab.output.renderOutput(dataTable, element);\n",
              "        const docLink = document.createElement('div');\n",
              "        docLink.innerHTML = docLinkHtml;\n",
              "        element.appendChild(docLink);\n",
              "      }\n",
              "    </script>\n",
              "  </div>\n",
              "\n",
              "\n",
              "<div id=\"df-da247315-d6d9-4456-be21-edd8b22137f1\">\n",
              "  <button class=\"colab-df-quickchart\" onclick=\"quickchart('df-da247315-d6d9-4456-be21-edd8b22137f1')\"\n",
              "            title=\"Suggest charts\"\n",
              "            style=\"display:none;\">\n",
              "\n",
              "<svg xmlns=\"http://www.w3.org/2000/svg\" height=\"24px\"viewBox=\"0 0 24 24\"\n",
              "     width=\"24px\">\n",
              "    <g>\n",
              "        <path d=\"M19 3H5c-1.1 0-2 .9-2 2v14c0 1.1.9 2 2 2h14c1.1 0 2-.9 2-2V5c0-1.1-.9-2-2-2zM9 17H7v-7h2v7zm4 0h-2V7h2v10zm4 0h-2v-4h2v4z\"/>\n",
              "    </g>\n",
              "</svg>\n",
              "  </button>\n",
              "\n",
              "<style>\n",
              "  .colab-df-quickchart {\n",
              "      --bg-color: #E8F0FE;\n",
              "      --fill-color: #1967D2;\n",
              "      --hover-bg-color: #E2EBFA;\n",
              "      --hover-fill-color: #174EA6;\n",
              "      --disabled-fill-color: #AAA;\n",
              "      --disabled-bg-color: #DDD;\n",
              "  }\n",
              "\n",
              "  [theme=dark] .colab-df-quickchart {\n",
              "      --bg-color: #3B4455;\n",
              "      --fill-color: #D2E3FC;\n",
              "      --hover-bg-color: #434B5C;\n",
              "      --hover-fill-color: #FFFFFF;\n",
              "      --disabled-bg-color: #3B4455;\n",
              "      --disabled-fill-color: #666;\n",
              "  }\n",
              "\n",
              "  .colab-df-quickchart {\n",
              "    background-color: var(--bg-color);\n",
              "    border: none;\n",
              "    border-radius: 50%;\n",
              "    cursor: pointer;\n",
              "    display: none;\n",
              "    fill: var(--fill-color);\n",
              "    height: 32px;\n",
              "    padding: 0;\n",
              "    width: 32px;\n",
              "  }\n",
              "\n",
              "  .colab-df-quickchart:hover {\n",
              "    background-color: var(--hover-bg-color);\n",
              "    box-shadow: 0 1px 2px rgba(60, 64, 67, 0.3), 0 1px 3px 1px rgba(60, 64, 67, 0.15);\n",
              "    fill: var(--button-hover-fill-color);\n",
              "  }\n",
              "\n",
              "  .colab-df-quickchart-complete:disabled,\n",
              "  .colab-df-quickchart-complete:disabled:hover {\n",
              "    background-color: var(--disabled-bg-color);\n",
              "    fill: var(--disabled-fill-color);\n",
              "    box-shadow: none;\n",
              "  }\n",
              "\n",
              "  .colab-df-spinner {\n",
              "    border: 2px solid var(--fill-color);\n",
              "    border-color: transparent;\n",
              "    border-bottom-color: var(--fill-color);\n",
              "    animation:\n",
              "      spin 1s steps(1) infinite;\n",
              "  }\n",
              "\n",
              "  @keyframes spin {\n",
              "    0% {\n",
              "      border-color: transparent;\n",
              "      border-bottom-color: var(--fill-color);\n",
              "      border-left-color: var(--fill-color);\n",
              "    }\n",
              "    20% {\n",
              "      border-color: transparent;\n",
              "      border-left-color: var(--fill-color);\n",
              "      border-top-color: var(--fill-color);\n",
              "    }\n",
              "    30% {\n",
              "      border-color: transparent;\n",
              "      border-left-color: var(--fill-color);\n",
              "      border-top-color: var(--fill-color);\n",
              "      border-right-color: var(--fill-color);\n",
              "    }\n",
              "    40% {\n",
              "      border-color: transparent;\n",
              "      border-right-color: var(--fill-color);\n",
              "      border-top-color: var(--fill-color);\n",
              "    }\n",
              "    60% {\n",
              "      border-color: transparent;\n",
              "      border-right-color: var(--fill-color);\n",
              "    }\n",
              "    80% {\n",
              "      border-color: transparent;\n",
              "      border-right-color: var(--fill-color);\n",
              "      border-bottom-color: var(--fill-color);\n",
              "    }\n",
              "    90% {\n",
              "      border-color: transparent;\n",
              "      border-bottom-color: var(--fill-color);\n",
              "    }\n",
              "  }\n",
              "</style>\n",
              "\n",
              "  <script>\n",
              "    async function quickchart(key) {\n",
              "      const quickchartButtonEl =\n",
              "        document.querySelector('#' + key + ' button');\n",
              "      quickchartButtonEl.disabled = true;  // To prevent multiple clicks.\n",
              "      quickchartButtonEl.classList.add('colab-df-spinner');\n",
              "      try {\n",
              "        const charts = await google.colab.kernel.invokeFunction(\n",
              "            'suggestCharts', [key], {});\n",
              "      } catch (error) {\n",
              "        console.error('Error during call to suggestCharts:', error);\n",
              "      }\n",
              "      quickchartButtonEl.classList.remove('colab-df-spinner');\n",
              "      quickchartButtonEl.classList.add('colab-df-quickchart-complete');\n",
              "    }\n",
              "    (() => {\n",
              "      let quickchartButtonEl =\n",
              "        document.querySelector('#df-da247315-d6d9-4456-be21-edd8b22137f1 button');\n",
              "      quickchartButtonEl.style.display =\n",
              "        google.colab.kernel.accessAllowed ? 'block' : 'none';\n",
              "    })();\n",
              "  </script>\n",
              "</div>\n",
              "\n",
              "    </div>\n",
              "  </div>\n"
            ],
            "application/vnd.google.colaboratory.intrinsic+json": {
              "type": "dataframe",
              "summary": "{\n  \"name\": \"weighted_pixie_recommend(\\\"Jurassic Park (1993)\\\", 10, 5)\",\n  \"rows\": 5,\n  \"fields\": [\n    {\n      \"column\": \"Ranking\",\n      \"properties\": {\n        \"dtype\": \"number\",\n        \"std\": 1,\n        \"min\": 1,\n        \"max\": 5,\n        \"num_unique_values\": 5,\n        \"samples\": [\n          2,\n          5,\n          3\n        ],\n        \"semantic_type\": \"\",\n        \"description\": \"\"\n      }\n    },\n    {\n      \"column\": \"Movie Name\",\n      \"properties\": {\n        \"dtype\": \"string\",\n        \"num_unique_values\": 5,\n        \"samples\": [\n          \"Bullets Over Broadway (1994)\",\n          \"Back to the Future (1985)\",\n          \"Clerks (1994)\"\n        ],\n        \"semantic_type\": \"\",\n        \"description\": \"\"\n      }\n    }\n  ]\n}"
            }
          },
          "metadata": {},
          "execution_count": 180
        }
      ],
      "source": [
        "import pandas as pd\n",
        "import random\n",
        "\n",
        "def weighted_pixie_recommend(movie_name, walk_length, num):\n",
        "    movie_id = movies[movies['title'] == movie_name]['movie_id'].iloc[0]\n",
        "\n",
        "    if movie_id not in graph:\n",
        "        return \"Movie not found in the graph.\"\n",
        "\n",
        "    movie_node = (movie_id, movie_name)\n",
        "    movie_visits = {}\n",
        "\n",
        "    current_node = movie_node\n",
        "    for _ in range(walk_length):\n",
        "        neighbors = graph.get(current_node)\n",
        "        if neighbors:\n",
        "            next_node = random.choice(list(neighbors))\n",
        "            if isinstance(next_node, tuple) and next_node != movie_node: #Check if it's a movie node and not the starting node itself\n",
        "                movie_id, movie_title = next_node\n",
        "                movie_visits[movie_title] = movie_visits.get(movie_title, 0) + 1\n",
        "            current_node = next_node\n",
        "        else:\n",
        "            break  # Stop the walk if no neighbors\n",
        "\n",
        "    sorted_movies = sorted(movie_visits.items(), key=lambda x: x[1], reverse=True)\n",
        "\n",
        "    top_movies = sorted_movies[:num]\n",
        "\n",
        "    result_df = pd.DataFrame({\n",
        "        'Ranking': range(1, len(top_movies)+1),\n",
        "        'Movie Name': [movie[0] for movie in top_movies]\n",
        "    })\n",
        "    result_df.set_index('Ranking', inplace=True)\n",
        "\n",
        "    return result_df\n",
        "\n",
        "# Example Usage\n",
        "weighted_pixie_recommend(\"Jurassic Park (1993)\", 10, 5)\n"
      ]
    },
    {
      "cell_type": "markdown",
      "source": [
        "**Walk length controls how far the algorithm explores** the user-movie graph starting from the given movie.\n",
        "\n",
        "**Shorter walks (e.g., 5 steps) stay near the starting movie**, giving safer and more similar recommendations.\n",
        "\n",
        "**Longer walks (e.g., 25+ steps) explore further, increasing diversity but potentially reducing relevance.**\n",
        "\n",
        "**The optimal walk length balances relevance and variety, typically around 10–20 steps** for good recommendations."
      ],
      "metadata": {
        "id": "8uzERRNO02eY"
      }
    },
    {
      "cell_type": "code",
      "source": [
        "# Example Usage\n",
        "weighted_pixie_recommend(\"Jurassic Park (1993)\", 15, 5)"
      ],
      "metadata": {
        "colab": {
          "base_uri": "https://localhost:8080/",
          "height": 238
        },
        "id": "cg_t6sM3weFl",
        "outputId": "d331dda2-d6eb-47b9-e083-f2a4074384eb"
      },
      "execution_count": 181,
      "outputs": [
        {
          "output_type": "execute_result",
          "data": {
            "text/plain": [
              "                        Movie Name\n",
              "Ranking                           \n",
              "1             Fugitive, The (1993)\n",
              "2                      Dave (1993)\n",
              "3        African Queen, The (1951)\n",
              "4               Sling Blade (1996)\n",
              "5              Benny & Joon (1993)"
            ],
            "text/html": [
              "\n",
              "  <div id=\"df-357aeab7-d085-42f4-b3df-2c47e09807dc\" class=\"colab-df-container\">\n",
              "    <div>\n",
              "<style scoped>\n",
              "    .dataframe tbody tr th:only-of-type {\n",
              "        vertical-align: middle;\n",
              "    }\n",
              "\n",
              "    .dataframe tbody tr th {\n",
              "        vertical-align: top;\n",
              "    }\n",
              "\n",
              "    .dataframe thead th {\n",
              "        text-align: right;\n",
              "    }\n",
              "</style>\n",
              "<table border=\"1\" class=\"dataframe\">\n",
              "  <thead>\n",
              "    <tr style=\"text-align: right;\">\n",
              "      <th></th>\n",
              "      <th>Movie Name</th>\n",
              "    </tr>\n",
              "    <tr>\n",
              "      <th>Ranking</th>\n",
              "      <th></th>\n",
              "    </tr>\n",
              "  </thead>\n",
              "  <tbody>\n",
              "    <tr>\n",
              "      <th>1</th>\n",
              "      <td>Fugitive, The (1993)</td>\n",
              "    </tr>\n",
              "    <tr>\n",
              "      <th>2</th>\n",
              "      <td>Dave (1993)</td>\n",
              "    </tr>\n",
              "    <tr>\n",
              "      <th>3</th>\n",
              "      <td>African Queen, The (1951)</td>\n",
              "    </tr>\n",
              "    <tr>\n",
              "      <th>4</th>\n",
              "      <td>Sling Blade (1996)</td>\n",
              "    </tr>\n",
              "    <tr>\n",
              "      <th>5</th>\n",
              "      <td>Benny &amp; Joon (1993)</td>\n",
              "    </tr>\n",
              "  </tbody>\n",
              "</table>\n",
              "</div>\n",
              "    <div class=\"colab-df-buttons\">\n",
              "\n",
              "  <div class=\"colab-df-container\">\n",
              "    <button class=\"colab-df-convert\" onclick=\"convertToInteractive('df-357aeab7-d085-42f4-b3df-2c47e09807dc')\"\n",
              "            title=\"Convert this dataframe to an interactive table.\"\n",
              "            style=\"display:none;\">\n",
              "\n",
              "  <svg xmlns=\"http://www.w3.org/2000/svg\" height=\"24px\" viewBox=\"0 -960 960 960\">\n",
              "    <path d=\"M120-120v-720h720v720H120Zm60-500h600v-160H180v160Zm220 220h160v-160H400v160Zm0 220h160v-160H400v160ZM180-400h160v-160H180v160Zm440 0h160v-160H620v160ZM180-180h160v-160H180v160Zm440 0h160v-160H620v160Z\"/>\n",
              "  </svg>\n",
              "    </button>\n",
              "\n",
              "  <style>\n",
              "    .colab-df-container {\n",
              "      display:flex;\n",
              "      gap: 12px;\n",
              "    }\n",
              "\n",
              "    .colab-df-convert {\n",
              "      background-color: #E8F0FE;\n",
              "      border: none;\n",
              "      border-radius: 50%;\n",
              "      cursor: pointer;\n",
              "      display: none;\n",
              "      fill: #1967D2;\n",
              "      height: 32px;\n",
              "      padding: 0 0 0 0;\n",
              "      width: 32px;\n",
              "    }\n",
              "\n",
              "    .colab-df-convert:hover {\n",
              "      background-color: #E2EBFA;\n",
              "      box-shadow: 0px 1px 2px rgba(60, 64, 67, 0.3), 0px 1px 3px 1px rgba(60, 64, 67, 0.15);\n",
              "      fill: #174EA6;\n",
              "    }\n",
              "\n",
              "    .colab-df-buttons div {\n",
              "      margin-bottom: 4px;\n",
              "    }\n",
              "\n",
              "    [theme=dark] .colab-df-convert {\n",
              "      background-color: #3B4455;\n",
              "      fill: #D2E3FC;\n",
              "    }\n",
              "\n",
              "    [theme=dark] .colab-df-convert:hover {\n",
              "      background-color: #434B5C;\n",
              "      box-shadow: 0px 1px 3px 1px rgba(0, 0, 0, 0.15);\n",
              "      filter: drop-shadow(0px 1px 2px rgba(0, 0, 0, 0.3));\n",
              "      fill: #FFFFFF;\n",
              "    }\n",
              "  </style>\n",
              "\n",
              "    <script>\n",
              "      const buttonEl =\n",
              "        document.querySelector('#df-357aeab7-d085-42f4-b3df-2c47e09807dc button.colab-df-convert');\n",
              "      buttonEl.style.display =\n",
              "        google.colab.kernel.accessAllowed ? 'block' : 'none';\n",
              "\n",
              "      async function convertToInteractive(key) {\n",
              "        const element = document.querySelector('#df-357aeab7-d085-42f4-b3df-2c47e09807dc');\n",
              "        const dataTable =\n",
              "          await google.colab.kernel.invokeFunction('convertToInteractive',\n",
              "                                                    [key], {});\n",
              "        if (!dataTable) return;\n",
              "\n",
              "        const docLinkHtml = 'Like what you see? Visit the ' +\n",
              "          '<a target=\"_blank\" href=https://colab.research.google.com/notebooks/data_table.ipynb>data table notebook</a>'\n",
              "          + ' to learn more about interactive tables.';\n",
              "        element.innerHTML = '';\n",
              "        dataTable['output_type'] = 'display_data';\n",
              "        await google.colab.output.renderOutput(dataTable, element);\n",
              "        const docLink = document.createElement('div');\n",
              "        docLink.innerHTML = docLinkHtml;\n",
              "        element.appendChild(docLink);\n",
              "      }\n",
              "    </script>\n",
              "  </div>\n",
              "\n",
              "\n",
              "<div id=\"df-5af49fce-0d99-4deb-b83e-8a025d2f068a\">\n",
              "  <button class=\"colab-df-quickchart\" onclick=\"quickchart('df-5af49fce-0d99-4deb-b83e-8a025d2f068a')\"\n",
              "            title=\"Suggest charts\"\n",
              "            style=\"display:none;\">\n",
              "\n",
              "<svg xmlns=\"http://www.w3.org/2000/svg\" height=\"24px\"viewBox=\"0 0 24 24\"\n",
              "     width=\"24px\">\n",
              "    <g>\n",
              "        <path d=\"M19 3H5c-1.1 0-2 .9-2 2v14c0 1.1.9 2 2 2h14c1.1 0 2-.9 2-2V5c0-1.1-.9-2-2-2zM9 17H7v-7h2v7zm4 0h-2V7h2v10zm4 0h-2v-4h2v4z\"/>\n",
              "    </g>\n",
              "</svg>\n",
              "  </button>\n",
              "\n",
              "<style>\n",
              "  .colab-df-quickchart {\n",
              "      --bg-color: #E8F0FE;\n",
              "      --fill-color: #1967D2;\n",
              "      --hover-bg-color: #E2EBFA;\n",
              "      --hover-fill-color: #174EA6;\n",
              "      --disabled-fill-color: #AAA;\n",
              "      --disabled-bg-color: #DDD;\n",
              "  }\n",
              "\n",
              "  [theme=dark] .colab-df-quickchart {\n",
              "      --bg-color: #3B4455;\n",
              "      --fill-color: #D2E3FC;\n",
              "      --hover-bg-color: #434B5C;\n",
              "      --hover-fill-color: #FFFFFF;\n",
              "      --disabled-bg-color: #3B4455;\n",
              "      --disabled-fill-color: #666;\n",
              "  }\n",
              "\n",
              "  .colab-df-quickchart {\n",
              "    background-color: var(--bg-color);\n",
              "    border: none;\n",
              "    border-radius: 50%;\n",
              "    cursor: pointer;\n",
              "    display: none;\n",
              "    fill: var(--fill-color);\n",
              "    height: 32px;\n",
              "    padding: 0;\n",
              "    width: 32px;\n",
              "  }\n",
              "\n",
              "  .colab-df-quickchart:hover {\n",
              "    background-color: var(--hover-bg-color);\n",
              "    box-shadow: 0 1px 2px rgba(60, 64, 67, 0.3), 0 1px 3px 1px rgba(60, 64, 67, 0.15);\n",
              "    fill: var(--button-hover-fill-color);\n",
              "  }\n",
              "\n",
              "  .colab-df-quickchart-complete:disabled,\n",
              "  .colab-df-quickchart-complete:disabled:hover {\n",
              "    background-color: var(--disabled-bg-color);\n",
              "    fill: var(--disabled-fill-color);\n",
              "    box-shadow: none;\n",
              "  }\n",
              "\n",
              "  .colab-df-spinner {\n",
              "    border: 2px solid var(--fill-color);\n",
              "    border-color: transparent;\n",
              "    border-bottom-color: var(--fill-color);\n",
              "    animation:\n",
              "      spin 1s steps(1) infinite;\n",
              "  }\n",
              "\n",
              "  @keyframes spin {\n",
              "    0% {\n",
              "      border-color: transparent;\n",
              "      border-bottom-color: var(--fill-color);\n",
              "      border-left-color: var(--fill-color);\n",
              "    }\n",
              "    20% {\n",
              "      border-color: transparent;\n",
              "      border-left-color: var(--fill-color);\n",
              "      border-top-color: var(--fill-color);\n",
              "    }\n",
              "    30% {\n",
              "      border-color: transparent;\n",
              "      border-left-color: var(--fill-color);\n",
              "      border-top-color: var(--fill-color);\n",
              "      border-right-color: var(--fill-color);\n",
              "    }\n",
              "    40% {\n",
              "      border-color: transparent;\n",
              "      border-right-color: var(--fill-color);\n",
              "      border-top-color: var(--fill-color);\n",
              "    }\n",
              "    60% {\n",
              "      border-color: transparent;\n",
              "      border-right-color: var(--fill-color);\n",
              "    }\n",
              "    80% {\n",
              "      border-color: transparent;\n",
              "      border-right-color: var(--fill-color);\n",
              "      border-bottom-color: var(--fill-color);\n",
              "    }\n",
              "    90% {\n",
              "      border-color: transparent;\n",
              "      border-bottom-color: var(--fill-color);\n",
              "    }\n",
              "  }\n",
              "</style>\n",
              "\n",
              "  <script>\n",
              "    async function quickchart(key) {\n",
              "      const quickchartButtonEl =\n",
              "        document.querySelector('#' + key + ' button');\n",
              "      quickchartButtonEl.disabled = true;  // To prevent multiple clicks.\n",
              "      quickchartButtonEl.classList.add('colab-df-spinner');\n",
              "      try {\n",
              "        const charts = await google.colab.kernel.invokeFunction(\n",
              "            'suggestCharts', [key], {});\n",
              "      } catch (error) {\n",
              "        console.error('Error during call to suggestCharts:', error);\n",
              "      }\n",
              "      quickchartButtonEl.classList.remove('colab-df-spinner');\n",
              "      quickchartButtonEl.classList.add('colab-df-quickchart-complete');\n",
              "    }\n",
              "    (() => {\n",
              "      let quickchartButtonEl =\n",
              "        document.querySelector('#df-5af49fce-0d99-4deb-b83e-8a025d2f068a button');\n",
              "      quickchartButtonEl.style.display =\n",
              "        google.colab.kernel.accessAllowed ? 'block' : 'none';\n",
              "    })();\n",
              "  </script>\n",
              "</div>\n",
              "\n",
              "    </div>\n",
              "  </div>\n"
            ],
            "application/vnd.google.colaboratory.intrinsic+json": {
              "type": "dataframe",
              "summary": "{\n  \"name\": \"weighted_pixie_recommend(\\\"Jurassic Park (1993)\\\", 15, 5)\",\n  \"rows\": 5,\n  \"fields\": [\n    {\n      \"column\": \"Ranking\",\n      \"properties\": {\n        \"dtype\": \"number\",\n        \"std\": 1,\n        \"min\": 1,\n        \"max\": 5,\n        \"num_unique_values\": 5,\n        \"samples\": [\n          2,\n          5,\n          3\n        ],\n        \"semantic_type\": \"\",\n        \"description\": \"\"\n      }\n    },\n    {\n      \"column\": \"Movie Name\",\n      \"properties\": {\n        \"dtype\": \"string\",\n        \"num_unique_values\": 5,\n        \"samples\": [\n          \"Dave (1993)\",\n          \"Benny & Joon (1993)\",\n          \"African Queen, The (1951)\"\n        ],\n        \"semantic_type\": \"\",\n        \"description\": \"\"\n      }\n    }\n  ]\n}"
            }
          },
          "metadata": {},
          "execution_count": 181
        }
      ]
    },
    {
      "cell_type": "code",
      "source": [
        "# Example Usage\n",
        "weighted_pixie_recommend(\"Shine (1996)\", 15, 7)"
      ],
      "metadata": {
        "colab": {
          "base_uri": "https://localhost:8080/",
          "height": 300
        },
        "id": "EJqAqHhqwlcX",
        "outputId": "cbd0bd31-6f7c-4e1f-d385-62129d2bfec9"
      },
      "execution_count": 182,
      "outputs": [
        {
          "output_type": "execute_result",
          "data": {
            "text/plain": [
              "                                            Movie Name\n",
              "Ranking                                               \n",
              "1                                     High Noon (1952)\n",
              "2        Homeward Bound: The Incredible Journey (1993)\n",
              "3                                          Babe (1995)\n",
              "4                                 Fugitive, The (1993)\n",
              "5                                        Junior (1994)\n",
              "6                        Independence Day (ID4) (1996)\n",
              "7                                    Craft, The (1996)"
            ],
            "text/html": [
              "\n",
              "  <div id=\"df-220de495-a510-4bd2-86e6-a72c0b091b35\" class=\"colab-df-container\">\n",
              "    <div>\n",
              "<style scoped>\n",
              "    .dataframe tbody tr th:only-of-type {\n",
              "        vertical-align: middle;\n",
              "    }\n",
              "\n",
              "    .dataframe tbody tr th {\n",
              "        vertical-align: top;\n",
              "    }\n",
              "\n",
              "    .dataframe thead th {\n",
              "        text-align: right;\n",
              "    }\n",
              "</style>\n",
              "<table border=\"1\" class=\"dataframe\">\n",
              "  <thead>\n",
              "    <tr style=\"text-align: right;\">\n",
              "      <th></th>\n",
              "      <th>Movie Name</th>\n",
              "    </tr>\n",
              "    <tr>\n",
              "      <th>Ranking</th>\n",
              "      <th></th>\n",
              "    </tr>\n",
              "  </thead>\n",
              "  <tbody>\n",
              "    <tr>\n",
              "      <th>1</th>\n",
              "      <td>High Noon (1952)</td>\n",
              "    </tr>\n",
              "    <tr>\n",
              "      <th>2</th>\n",
              "      <td>Homeward Bound: The Incredible Journey (1993)</td>\n",
              "    </tr>\n",
              "    <tr>\n",
              "      <th>3</th>\n",
              "      <td>Babe (1995)</td>\n",
              "    </tr>\n",
              "    <tr>\n",
              "      <th>4</th>\n",
              "      <td>Fugitive, The (1993)</td>\n",
              "    </tr>\n",
              "    <tr>\n",
              "      <th>5</th>\n",
              "      <td>Junior (1994)</td>\n",
              "    </tr>\n",
              "    <tr>\n",
              "      <th>6</th>\n",
              "      <td>Independence Day (ID4) (1996)</td>\n",
              "    </tr>\n",
              "    <tr>\n",
              "      <th>7</th>\n",
              "      <td>Craft, The (1996)</td>\n",
              "    </tr>\n",
              "  </tbody>\n",
              "</table>\n",
              "</div>\n",
              "    <div class=\"colab-df-buttons\">\n",
              "\n",
              "  <div class=\"colab-df-container\">\n",
              "    <button class=\"colab-df-convert\" onclick=\"convertToInteractive('df-220de495-a510-4bd2-86e6-a72c0b091b35')\"\n",
              "            title=\"Convert this dataframe to an interactive table.\"\n",
              "            style=\"display:none;\">\n",
              "\n",
              "  <svg xmlns=\"http://www.w3.org/2000/svg\" height=\"24px\" viewBox=\"0 -960 960 960\">\n",
              "    <path d=\"M120-120v-720h720v720H120Zm60-500h600v-160H180v160Zm220 220h160v-160H400v160Zm0 220h160v-160H400v160ZM180-400h160v-160H180v160Zm440 0h160v-160H620v160ZM180-180h160v-160H180v160Zm440 0h160v-160H620v160Z\"/>\n",
              "  </svg>\n",
              "    </button>\n",
              "\n",
              "  <style>\n",
              "    .colab-df-container {\n",
              "      display:flex;\n",
              "      gap: 12px;\n",
              "    }\n",
              "\n",
              "    .colab-df-convert {\n",
              "      background-color: #E8F0FE;\n",
              "      border: none;\n",
              "      border-radius: 50%;\n",
              "      cursor: pointer;\n",
              "      display: none;\n",
              "      fill: #1967D2;\n",
              "      height: 32px;\n",
              "      padding: 0 0 0 0;\n",
              "      width: 32px;\n",
              "    }\n",
              "\n",
              "    .colab-df-convert:hover {\n",
              "      background-color: #E2EBFA;\n",
              "      box-shadow: 0px 1px 2px rgba(60, 64, 67, 0.3), 0px 1px 3px 1px rgba(60, 64, 67, 0.15);\n",
              "      fill: #174EA6;\n",
              "    }\n",
              "\n",
              "    .colab-df-buttons div {\n",
              "      margin-bottom: 4px;\n",
              "    }\n",
              "\n",
              "    [theme=dark] .colab-df-convert {\n",
              "      background-color: #3B4455;\n",
              "      fill: #D2E3FC;\n",
              "    }\n",
              "\n",
              "    [theme=dark] .colab-df-convert:hover {\n",
              "      background-color: #434B5C;\n",
              "      box-shadow: 0px 1px 3px 1px rgba(0, 0, 0, 0.15);\n",
              "      filter: drop-shadow(0px 1px 2px rgba(0, 0, 0, 0.3));\n",
              "      fill: #FFFFFF;\n",
              "    }\n",
              "  </style>\n",
              "\n",
              "    <script>\n",
              "      const buttonEl =\n",
              "        document.querySelector('#df-220de495-a510-4bd2-86e6-a72c0b091b35 button.colab-df-convert');\n",
              "      buttonEl.style.display =\n",
              "        google.colab.kernel.accessAllowed ? 'block' : 'none';\n",
              "\n",
              "      async function convertToInteractive(key) {\n",
              "        const element = document.querySelector('#df-220de495-a510-4bd2-86e6-a72c0b091b35');\n",
              "        const dataTable =\n",
              "          await google.colab.kernel.invokeFunction('convertToInteractive',\n",
              "                                                    [key], {});\n",
              "        if (!dataTable) return;\n",
              "\n",
              "        const docLinkHtml = 'Like what you see? Visit the ' +\n",
              "          '<a target=\"_blank\" href=https://colab.research.google.com/notebooks/data_table.ipynb>data table notebook</a>'\n",
              "          + ' to learn more about interactive tables.';\n",
              "        element.innerHTML = '';\n",
              "        dataTable['output_type'] = 'display_data';\n",
              "        await google.colab.output.renderOutput(dataTable, element);\n",
              "        const docLink = document.createElement('div');\n",
              "        docLink.innerHTML = docLinkHtml;\n",
              "        element.appendChild(docLink);\n",
              "      }\n",
              "    </script>\n",
              "  </div>\n",
              "\n",
              "\n",
              "<div id=\"df-e94cfe39-5e12-4642-8692-456f612e32f7\">\n",
              "  <button class=\"colab-df-quickchart\" onclick=\"quickchart('df-e94cfe39-5e12-4642-8692-456f612e32f7')\"\n",
              "            title=\"Suggest charts\"\n",
              "            style=\"display:none;\">\n",
              "\n",
              "<svg xmlns=\"http://www.w3.org/2000/svg\" height=\"24px\"viewBox=\"0 0 24 24\"\n",
              "     width=\"24px\">\n",
              "    <g>\n",
              "        <path d=\"M19 3H5c-1.1 0-2 .9-2 2v14c0 1.1.9 2 2 2h14c1.1 0 2-.9 2-2V5c0-1.1-.9-2-2-2zM9 17H7v-7h2v7zm4 0h-2V7h2v10zm4 0h-2v-4h2v4z\"/>\n",
              "    </g>\n",
              "</svg>\n",
              "  </button>\n",
              "\n",
              "<style>\n",
              "  .colab-df-quickchart {\n",
              "      --bg-color: #E8F0FE;\n",
              "      --fill-color: #1967D2;\n",
              "      --hover-bg-color: #E2EBFA;\n",
              "      --hover-fill-color: #174EA6;\n",
              "      --disabled-fill-color: #AAA;\n",
              "      --disabled-bg-color: #DDD;\n",
              "  }\n",
              "\n",
              "  [theme=dark] .colab-df-quickchart {\n",
              "      --bg-color: #3B4455;\n",
              "      --fill-color: #D2E3FC;\n",
              "      --hover-bg-color: #434B5C;\n",
              "      --hover-fill-color: #FFFFFF;\n",
              "      --disabled-bg-color: #3B4455;\n",
              "      --disabled-fill-color: #666;\n",
              "  }\n",
              "\n",
              "  .colab-df-quickchart {\n",
              "    background-color: var(--bg-color);\n",
              "    border: none;\n",
              "    border-radius: 50%;\n",
              "    cursor: pointer;\n",
              "    display: none;\n",
              "    fill: var(--fill-color);\n",
              "    height: 32px;\n",
              "    padding: 0;\n",
              "    width: 32px;\n",
              "  }\n",
              "\n",
              "  .colab-df-quickchart:hover {\n",
              "    background-color: var(--hover-bg-color);\n",
              "    box-shadow: 0 1px 2px rgba(60, 64, 67, 0.3), 0 1px 3px 1px rgba(60, 64, 67, 0.15);\n",
              "    fill: var(--button-hover-fill-color);\n",
              "  }\n",
              "\n",
              "  .colab-df-quickchart-complete:disabled,\n",
              "  .colab-df-quickchart-complete:disabled:hover {\n",
              "    background-color: var(--disabled-bg-color);\n",
              "    fill: var(--disabled-fill-color);\n",
              "    box-shadow: none;\n",
              "  }\n",
              "\n",
              "  .colab-df-spinner {\n",
              "    border: 2px solid var(--fill-color);\n",
              "    border-color: transparent;\n",
              "    border-bottom-color: var(--fill-color);\n",
              "    animation:\n",
              "      spin 1s steps(1) infinite;\n",
              "  }\n",
              "\n",
              "  @keyframes spin {\n",
              "    0% {\n",
              "      border-color: transparent;\n",
              "      border-bottom-color: var(--fill-color);\n",
              "      border-left-color: var(--fill-color);\n",
              "    }\n",
              "    20% {\n",
              "      border-color: transparent;\n",
              "      border-left-color: var(--fill-color);\n",
              "      border-top-color: var(--fill-color);\n",
              "    }\n",
              "    30% {\n",
              "      border-color: transparent;\n",
              "      border-left-color: var(--fill-color);\n",
              "      border-top-color: var(--fill-color);\n",
              "      border-right-color: var(--fill-color);\n",
              "    }\n",
              "    40% {\n",
              "      border-color: transparent;\n",
              "      border-right-color: var(--fill-color);\n",
              "      border-top-color: var(--fill-color);\n",
              "    }\n",
              "    60% {\n",
              "      border-color: transparent;\n",
              "      border-right-color: var(--fill-color);\n",
              "    }\n",
              "    80% {\n",
              "      border-color: transparent;\n",
              "      border-right-color: var(--fill-color);\n",
              "      border-bottom-color: var(--fill-color);\n",
              "    }\n",
              "    90% {\n",
              "      border-color: transparent;\n",
              "      border-bottom-color: var(--fill-color);\n",
              "    }\n",
              "  }\n",
              "</style>\n",
              "\n",
              "  <script>\n",
              "    async function quickchart(key) {\n",
              "      const quickchartButtonEl =\n",
              "        document.querySelector('#' + key + ' button');\n",
              "      quickchartButtonEl.disabled = true;  // To prevent multiple clicks.\n",
              "      quickchartButtonEl.classList.add('colab-df-spinner');\n",
              "      try {\n",
              "        const charts = await google.colab.kernel.invokeFunction(\n",
              "            'suggestCharts', [key], {});\n",
              "      } catch (error) {\n",
              "        console.error('Error during call to suggestCharts:', error);\n",
              "      }\n",
              "      quickchartButtonEl.classList.remove('colab-df-spinner');\n",
              "      quickchartButtonEl.classList.add('colab-df-quickchart-complete');\n",
              "    }\n",
              "    (() => {\n",
              "      let quickchartButtonEl =\n",
              "        document.querySelector('#df-e94cfe39-5e12-4642-8692-456f612e32f7 button');\n",
              "      quickchartButtonEl.style.display =\n",
              "        google.colab.kernel.accessAllowed ? 'block' : 'none';\n",
              "    })();\n",
              "  </script>\n",
              "</div>\n",
              "\n",
              "    </div>\n",
              "  </div>\n"
            ],
            "application/vnd.google.colaboratory.intrinsic+json": {
              "type": "dataframe",
              "summary": "{\n  \"name\": \"weighted_pixie_recommend(\\\"Shine (1996)\\\", 15, 7)\",\n  \"rows\": 7,\n  \"fields\": [\n    {\n      \"column\": \"Ranking\",\n      \"properties\": {\n        \"dtype\": \"number\",\n        \"std\": 2,\n        \"min\": 1,\n        \"max\": 7,\n        \"num_unique_values\": 7,\n        \"samples\": [\n          1,\n          2,\n          6\n        ],\n        \"semantic_type\": \"\",\n        \"description\": \"\"\n      }\n    },\n    {\n      \"column\": \"Movie Name\",\n      \"properties\": {\n        \"dtype\": \"string\",\n        \"num_unique_values\": 7,\n        \"samples\": [\n          \"High Noon (1952)\",\n          \"Homeward Bound: The Incredible Journey (1993)\",\n          \"Independence Day (ID4) (1996)\"\n        ],\n        \"semantic_type\": \"\",\n        \"description\": \"\"\n      }\n    }\n  ]\n}"
            }
          },
          "metadata": {},
          "execution_count": 182
        }
      ]
    },
    {
      "cell_type": "markdown",
      "metadata": {
        "id": "Q36Y2C7PxWO0"
      },
      "source": [
        "---"
      ]
    },
    {
      "cell_type": "markdown",
      "metadata": {
        "id": "9iKlQlvBtiGe"
      },
      "source": [
        "## **Submission Requirements:**"
      ]
    },
    {
      "cell_type": "markdown",
      "metadata": {
        "id": "NHGGedZexPs0"
      },
      "source": [
        "To successfully complete this assignment, ensure that you submit the following:\n",
        "\n",
        "\n",
        "### **1. Jupyter Notebook Submission**\n",
        "- Submit a **fully completed Jupyter Notebook** that includes:\n",
        "  - **All implemented recommendation functions** (user-based, item-based, and random walk-based recommendations).\n",
        "  - **Code explanations** in markdown cells to describe each step.\n",
        "  - **Results and insights** from running your recommendation models.\n",
        "\n",
        "\n",
        "### **2. Explanation of Pixie-Inspired Algorithms (3-5 Paragraphs)**\n",
        "- Write a **detailed explanation** of **Pixie-inspired random walk algorithms** used for recommendations.\n",
        "- Your explanation should cover:\n",
        "  - What **Pixie-inspired recommendation systems** are.\n",
        "  - How **random walks** help in identifying relevant recommendations.\n",
        "  - Any real-world applications of such algorithms in industry.\n",
        "\n",
        "\n",
        "### **3. Report for the Submitted Notebook**\n",
        "Your report should be structured as follows:\n",
        "\n",
        "#### **Title: Movie Recommendation System Report**\n",
        "\n",
        "#### **1. Introduction**\n",
        "- Briefly introduce **movie recommendation systems** and why they are important.\n",
        "- Explain the **different approaches used** (user-based, item-based, random-walk).\n",
        "\n",
        "#### **2. Dataset Description**\n",
        "- Describe the **MovieLens 100K dataset**:\n",
        "  - Number of users, movies, and ratings.\n",
        "  - What features were used.\n",
        "  - Any preprocessing performed.\n",
        "\n",
        "#### **3. Methodology**\n",
        "- Explain the three recommendation techniques implemented:\n",
        "  - **User-based collaborative filtering** (how user similarity was calculated).\n",
        "  - **Item-based collaborative filtering** (how item similarity was determined).\n",
        "  - **Random-walk-based Pixie algorithm** (why graph-based approaches are effective).\n",
        "  \n",
        "#### **4. Implementation Details**\n",
        "- Discuss the steps taken to build the functions.\n",
        "- Describe how the **adjacency list graph** was created.\n",
        "- Explain how **random walks** were performed and how visited movies were ranked.\n",
        "\n",
        "#### **5. Results and Evaluation**\n",
        "- Present **example outputs** from each recommendation approach.\n",
        "- Compare the different methods in terms of accuracy and usefulness.\n",
        "- Discuss any **limitations** in the implementation.\n",
        "\n",
        "#### **6. Conclusion**\n",
        "- Summarize the key takeaways from the project.\n",
        "- Discuss potential improvements (e.g., **hybrid models, additional features**).\n",
        "- Suggest real-world applications of the methods used."
      ]
    },
    {
      "cell_type": "markdown",
      "metadata": {
        "id": "NWgT_Shy-vUK"
      },
      "source": [
        "### **Submission Instructions**"
      ]
    },
    {
      "cell_type": "markdown",
      "metadata": {
        "id": "Nuz1s-Vh_L55"
      },
      "source": [
        "- Submit `.zip` file consisting of Jupyter Notebook and all the datafiles (provided) and the ones saved [i.e. `users.csv`, `movies.csv` and `ratings.csv`]. Also, include the Report and Pixie Algorithm explanation document.\n",
        "- [`Bonus 10 Points`] **Upload your Jupyter Notebook, Explanation Document, and Report** to your GitHub repository.\n",
        "- Ensure the repository is public and contains:\n",
        "  - `users.csv`, `movies.csv` and `ratings.csv` [These are the Dataframes which were created in part 1. Save and export them as a `.csv` file]\n",
        "  - `Movie_Recommendation.ipynb`\n",
        "  - `Pixie_Algorithm_Explanation.pdf` or `.md`\n",
        "  - `Recommendation_Report.pdf` or `.md`\n",
        "- **Submit the GitHub repository link in the cell below.**\n",
        "\n",
        "\n",
        "#### **Example Submission Format**\n",
        "```text\n",
        "GitHub Repository: https://github.com/username/Movie-Recommendation\n",
        "```"
      ]
    },
    {
      "cell_type": "code",
      "execution_count": null,
      "metadata": {
        "id": "jol9nRDau6fZ"
      },
      "outputs": [],
      "source": [
        "# Submit the Github Link here:\n",
        "https://github.com/sbal2911/Movie-Recommendation/tree/main"
      ]
    },
    {
      "cell_type": "markdown",
      "metadata": {
        "id": "oQ6aluK-0ZMa"
      },
      "source": [
        "### **Grading Rubric: ITCS 6162 - Data Mining Assignment**"
      ]
    },
    {
      "cell_type": "markdown",
      "metadata": {
        "id": "sNAfeIzA_fCq"
      },
      "source": [
        "\n",
        "| **Category**                              | **Criteria**                                                     | **Points** |\n",
        "|-------------------------------------------|----------------------------------------------------------------|------------|\n",
        "| **Part 1: Exploring and Cleaning Data (15 pts)**  | Properly loads `u.user`, `u.movies`, and `u.item` datasets into DataFrames | 5 |\n",
        "|                                           | Handles missing values, duplicates, and inconsistencies appropriately | 5 |\n",
        "|                                           | Saves the cleaned datasets into CSV files: `users.csv`, `movies.csv`, `ratings.csv` | 5 |\n",
        "| **Part 2: Collaborative Filtering-Based Recommendation (30 pts)** | Implements user-based collaborative filtering correctly | 10 |\n",
        "|                                           | Implements item-based collaborative filtering correctly | 10 |\n",
        "|                                           | Computes similarity measures accurately and provides valid recommendations | 10 |\n",
        "| **Part 3: Graph-Based Recommender (Pixie-Inspired Algorithm) (35 pts)** | Constructs adjacency lists properly from user-movie interactions | 10 |\n",
        "|                                           | Implements weighted random walk-based recommendation correctly | 15 |\n",
        "|                                           | Explains and justifies the algorithm design choices (Pixie-inspired) | 10 |\n",
        "| **Code Quality & Documentation (10 pts)** | Code is well-structured, efficient, and follows best practices | 5 |\n",
        "|                                           | Markdown explanations and comments are clear and enhance understanding | 5 |\n",
        "| **Results & Interpretation (5 pts)**      | Provides meaningful insights from the recommendation system's output | 5 |\n",
        "| **Submission & Report (5 pts)**          | Submits all required files in the correct format (ZIP file with Jupyter notebook, processed CSV files, and project report) | 5 |\n",
        "| **Total**                                 |                              | 100 |\n",
        "\n",
        "#### **Bonus (10 pts)**\n",
        "| **Category**                              | **Criteria**                                                     | **Points** |\n",
        "|-------------------------------------------|----------------------------------------------------------------|------------|\n",
        "| **GitHub Submission**                     | Provides a well-documented GitHub repository with CSV files, a structured README, and a properly formatted Jupyter Notebook | 10 |"
      ]
    }
  ],
  "metadata": {
    "colab": {
      "collapsed_sections": [
        "u_YceL18lWlN",
        "Nuz1s-Vh_L55"
      ],
      "provenance": []
    },
    "kernelspec": {
      "display_name": "Python 3",
      "name": "python3"
    },
    "language_info": {
      "name": "python"
    }
  },
  "nbformat": 4,
  "nbformat_minor": 0
}